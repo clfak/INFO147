{
 "cells": [
  {
   "cell_type": "code",
   "execution_count": 1,
   "id": "c66679ba",
   "metadata": {},
   "outputs": [],
   "source": [
    "%matplotlib inline\n",
    "import matplotlib.pyplot as plt\n",
    "import numpy as np\n",
    "import pandas as pd\n",
    "from IPython.display import YouTubeVideo\n",
    "from functools import partial"
   ]
  },
  {
   "cell_type": "code",
   "execution_count": 106,
   "id": "233d28d6",
   "metadata": {},
   "outputs": [],
   "source": [
    "df = pd.read_csv('helados.csv', index_col=0)"
   ]
  },
  {
   "cell_type": "markdown",
   "id": "7c2f4625",
   "metadata": {},
   "source": [
    "# 1. Ejercicio práctico"
   ]
  },
  {
   "cell_type": "markdown",
   "id": "2390cb76",
   "metadata": {},
   "source": [
    "Sea el sistema de ecuaciones\n",
    "\n",
    "$$\n",
    "\\begin{align}\n",
    "-x_{1} + 5 x_{2} &= 2 \\nonumber \\\\\n",
    "2 x_{1} + 3 x_{2} &= 1  \\nonumber \n",
    "\\end{align}\n",
    "$$\n",
    "\n",
    "1. ¿Cuántas ecuaciones e incognitas tiene este sistema? ¿Es este un sistema cuadrado?\n",
    "1. Escriba $A$, $b$  y compruebe si $A$ es invertible (determinante y rango)\n",
    "1. Encuentre la inversa de $A$ y usela para calcular $x$\n",
    "1. (Extra) Represente geometricamente el sistema y encuentra la solución de forma gráfica\n",
    "1. Repita para los sistemas\n",
    "\n",
    "$$\n",
    "\\begin{align}\n",
    "x_{1} + 5 x_{2} &= 2 \\nonumber \\\\\n",
    "2 x_{1} + 10 x_{2} &= 6  \\nonumber \n",
    "\\end{align}\n",
    "$$\n",
    "\n",
    "y\n",
    "\n",
    "$$\n",
    "\\begin{align}\n",
    "x_{1} + 5 x_{2} &= 2 \\nonumber \\\\\n",
    "2 x_{1} + 10 x_{2} &= 4  \\nonumber \n",
    "\\end{align}\n",
    "$$\n",
    "\n",
    "¿Qué puede decir de estos sistemas?"
   ]
  },
  {
   "cell_type": "markdown",
   "id": "262a8ed4",
   "metadata": {},
   "source": [
    "### 1.1. ¿Cuántas ecuaciones e incognitas tiene este sistema? ¿Es este un sistema cuadrado?"
   ]
  },
  {
   "cell_type": "markdown",
   "id": "e8cf675f",
   "metadata": {},
   "source": [
    "R: Posee 2 ecuaciones y dos incógnitas. Es un sistema cuadrado"
   ]
  },
  {
   "cell_type": "markdown",
   "id": "28256bb7",
   "metadata": {},
   "source": [
    "### 1.2 Escriba $A$, $b$  y compruebe si $A$ es invertible (determinante y rango)"
   ]
  },
  {
   "cell_type": "code",
   "execution_count": 84,
   "id": "8c32ba72",
   "metadata": {},
   "outputs": [],
   "source": [
    "A = np.array([[-1,5],[2,3]])\n",
    "b = np.array([2,1])"
   ]
  },
  {
   "cell_type": "code",
   "execution_count": 85,
   "id": "0cd32cd7",
   "metadata": {},
   "outputs": [
    {
     "name": "stdout",
     "output_type": "stream",
     "text": [
      "-13.0\n"
     ]
    }
   ],
   "source": [
    "det_A = np.linalg.det(A)\n",
    "if (det_A == 0): print(\"Determinante igual a 0\")\n",
    "else: print(np.linalg.det(A))"
   ]
  },
  {
   "cell_type": "code",
   "execution_count": 86,
   "id": "19af6eb0",
   "metadata": {},
   "outputs": [
    {
     "name": "stdout",
     "output_type": "stream",
     "text": [
      "2\n"
     ]
    }
   ],
   "source": [
    "ran_A = np.linalg.matrix_rank(A)\n",
    "if (ran_A != A.shape[1]): print(\"No es LI\")\n",
    "else: print(ran_A)"
   ]
  },
  {
   "cell_type": "markdown",
   "id": "b3c3b585",
   "metadata": {},
   "source": [
    "### 1.3 Encuentre la inversa de $A$ y usela para calcular $x$"
   ]
  },
  {
   "cell_type": "code",
   "execution_count": 87,
   "id": "25d73a2b",
   "metadata": {},
   "outputs": [
    {
     "name": "stdout",
     "output_type": "stream",
     "text": [
      "x_1 =  -0.077\n",
      "x_2 =  0.385\n"
     ]
    }
   ],
   "source": [
    "inv_A = np.linalg.inv(A)\n",
    "x = np.dot(inv_A, b)\n",
    "print(\"x_1 = \", \"{:.3f}\".format(x[0]))\n",
    "print(\"x_2 = \", \"{:.3f}\".format(x[1]))"
   ]
  },
  {
   "cell_type": "markdown",
   "id": "c1a64b5c",
   "metadata": {},
   "source": [
    "### 1.4 Represente geometricamente el sistema y encuentra la solución de forma gráfica"
   ]
  },
  {
   "cell_type": "code",
   "execution_count": 88,
   "id": "27e8628e",
   "metadata": {},
   "outputs": [
    {
     "data": {
      "image/png": "[encoded data removed]",
      "text/plain": [
       "<Figure size 432x288 with 1 Axes>"
      ]
     },
     "metadata": {
      "needs_background": "light"
     },
     "output_type": "display_data"
    }
   ],
   "source": [
    "fig, ax = plt.subplots()\n",
    "x_n = np.linspace(-1, 1, num=100)\n",
    "for i in range (ran_A):\n",
    "    ax.plot(x_n, (b[i]-A[i,0]*x_n)/A[i,1]);"
   ]
  },
  {
   "cell_type": "markdown",
   "id": "f8a597f2",
   "metadata": {},
   "source": [
    "### 1.5 Repita para los sistemas"
   ]
  },
  {
   "cell_type": "markdown",
   "id": "a56b6a80",
   "metadata": {},
   "source": [
    "#### 1.5.1 Número 1"
   ]
  },
  {
   "cell_type": "markdown",
   "id": "273a698e",
   "metadata": {},
   "source": [
    "\\begin{align}\n",
    "x_{1} + 5 x_{2} &= 2 \\nonumber \\\\\n",
    "2 x_{1} + 10 x_{2} &= 6  \\nonumber \n",
    "\\end{align}"
   ]
  },
  {
   "cell_type": "code",
   "execution_count": 97,
   "id": "c04aec8f",
   "metadata": {},
   "outputs": [],
   "source": [
    "A = np.array([[1,5],[2,10]])\n",
    "b = np.array([2,6])"
   ]
  },
  {
   "cell_type": "code",
   "execution_count": 98,
   "id": "59db8c90",
   "metadata": {},
   "outputs": [
    {
     "name": "stdout",
     "output_type": "stream",
     "text": [
      "Determinante igual a 0\n"
     ]
    }
   ],
   "source": [
    "det_A = np.linalg.det(A)\n",
    "if (det_A == 0): print(\"Determinante igual a 0\")\n",
    "else: print(np.linalg.det(A))"
   ]
  },
  {
   "cell_type": "code",
   "execution_count": 99,
   "id": "476b1075",
   "metadata": {},
   "outputs": [
    {
     "data": {
      "image/png": "[encoded data removed]",
      "text/plain": [
       "<Figure size 432x288 with 1 Axes>"
      ]
     },
     "metadata": {
      "needs_background": "light"
     },
     "output_type": "display_data"
    }
   ],
   "source": [
    "fig, ax = plt.subplots()\n",
    "x_n = np.linspace(-1, 1, num=100)\n",
    "for i in range (A.shape[1]):\n",
    "    ax.plot(x_n, (b[i]-A[i,0]*x_n)/A[i,1]);"
   ]
  },
  {
   "cell_type": "markdown",
   "id": "46a90827",
   "metadata": {},
   "source": [
    "#### 1.5.1 Número 2"
   ]
  },
  {
   "cell_type": "markdown",
   "id": "06bb0c47",
   "metadata": {},
   "source": [
    "$$\n",
    "\\begin{align}\n",
    "x_{1} + 5 x_{2} &= 2 \\nonumber \\\\\n",
    "2 x_{1} + 10 x_{2} &= 4  \\nonumber \n",
    "\\end{align}\n",
    "$$"
   ]
  },
  {
   "cell_type": "code",
   "execution_count": 94,
   "id": "d758fd79",
   "metadata": {},
   "outputs": [],
   "source": [
    "A = np.array([[1,5],[2,10]])\n",
    "b = np.array([2,4])"
   ]
  },
  {
   "cell_type": "code",
   "execution_count": 95,
   "id": "e448b5e7",
   "metadata": {},
   "outputs": [
    {
     "name": "stdout",
     "output_type": "stream",
     "text": [
      "Determinante igual a 0\n"
     ]
    }
   ],
   "source": [
    "det_A = np.linalg.det(A)\n",
    "if (det_A == 0): print(\"Determinante igual a 0\")\n",
    "else: print(np.linalg.det(A))"
   ]
  },
  {
   "cell_type": "code",
   "execution_count": 96,
   "id": "c226c3ad",
   "metadata": {},
   "outputs": [
    {
     "data": {
      "image/png": "[encoded data removed]",
      "text/plain": [
       "<Figure size 432x288 with 1 Axes>"
      ]
     },
     "metadata": {
      "needs_background": "light"
     },
     "output_type": "display_data"
    }
   ],
   "source": [
    "fig, ax = plt.subplots()\n",
    "x_n = np.linspace(-1, 1, num=100)\n",
    "for i in range (A.shape[1]):\n",
    "    ax.plot(x_n, (b[i]-A[i,0]*x_n)/A[i,1]);"
   ]
  },
  {
   "cell_type": "markdown",
   "id": "fb8c373e",
   "metadata": {},
   "source": [
    "# 2. Ejercicio práctico"
   ]
  },
  {
   "cell_type": "markdown",
   "id": "7639d1db",
   "metadata": {},
   "source": [
    "Encuentre los parámetros de la **ecuación de la recta** que ajuste mejor los datos \n",
    "\n",
    "$$\n",
    "\\text{consumo} = \\theta_1 \\cdot \\text{temperatura} + \\theta_0\n",
    "$$\n",
    "\n",
    "- Identifique y construya el vector $b$ y la matriz $A$ ¿Cuánto vale $N$ y $M$?\n",
    "- ¿Es este un sistema cuadrado o rectangular? ¿ Es sobre o infra-determinado?\n",
    "- Encuentre $\\theta_0$ y $\\theta_1$ que minimiza la suma de errores cuadráticos\n",
    "- Grafique la recta encontrada usando `matplotlib`"
   ]
  },
  {
   "cell_type": "markdown",
   "id": "4b0e9b0b",
   "metadata": {},
   "source": [
    "#### 2.1 Identifique y construya el vector $b$ y la matriz $A$ ¿Cuánto vale $N$ y $M$?"
   ]
  },
  {
   "cell_type": "code",
   "execution_count": 123,
   "id": "8d632f45",
   "metadata": {},
   "outputs": [],
   "source": [
    "N = len(df)\n",
    "M = 2 # Theta_0 y Theta_1"
   ]
  },
  {
   "cell_type": "code",
   "execution_count": 124,
   "id": "064de30c",
   "metadata": {},
   "outputs": [],
   "source": [
    "A = np.ones(shape=(N,M))\n",
    "A[:,1] = df[\"temp\"]\n",
    "b = df[\"cons\"].values"
   ]
  },
  {
   "cell_type": "markdown",
   "id": "22185c0b",
   "metadata": {},
   "source": [
    "#### 2.2 ¿Es este un sistema cuadrado o rectangular? ¿ Es sobre o infra-determinado?"
   ]
  },
  {
   "cell_type": "markdown",
   "id": "dbef918e",
   "metadata": {},
   "source": [
    "R: Es un sistema rectangular sobredeterminado, ya que tiene más ecuaciones que incógnitas."
   ]
  },
  {
   "cell_type": "markdown",
   "id": "f51eab9b",
   "metadata": {},
   "source": [
    "#### 2.3 Encuentre $\\theta_0$ y $\\theta_1$ que minimiza la suma de errores cuadráticos"
   ]
  },
  {
   "cell_type": "code",
   "execution_count": 130,
   "id": "bfb098df",
   "metadata": {},
   "outputs": [
    {
     "name": "stdout",
     "output_type": "stream",
     "text": [
      "theta_0 =  0.207\n",
      "theta_1 =  0.003\n"
     ]
    }
   ],
   "source": [
    "theta = np.linalg.lstsq(A,b, rcond=None)[0]\n",
    "print(\"theta_0 = \", \"{:.3f}\".format(theta[0]))\n",
    "print(\"theta_1 = \", \"{:.3f}\".format(theta[1]))"
   ]
  },
  {
   "cell_type": "markdown",
   "id": "6447884c",
   "metadata": {},
   "source": [
    "#### 2.4 Grafique la recta encontrada usando `matplotlib`"
   ]
  },
  {
   "cell_type": "code",
   "execution_count": 139,
   "id": "3526349b",
   "metadata": {},
   "outputs": [],
   "source": [
    "x_min = np.amin(A[:,1])\n",
    "x_max = np.amax(A[:,1])\n",
    "x_n = np.linspace(x_min, x_max, num=100)"
   ]
  },
  {
   "cell_type": "code",
   "execution_count": 141,
   "id": "e2de3dd3",
   "metadata": {},
   "outputs": [
    {
     "data": {
      "image/png": "[encoded data removed]",
      "text/plain": [
       "<Figure size 432x288 with 1 Axes>"
      ]
     },
     "metadata": {
      "needs_background": "light"
     },
     "output_type": "display_data"
    }
   ],
   "source": [
    "fig, ax = plt.subplots()\n",
    "ax.scatter(df[\"temp\"], df[\"cons\"])\n",
    "ax.plot(x_n, theta[1]*x_n + theta[0]);"
   ]
  },
  {
   "cell_type": "code",
   "execution_count": null,
   "id": "a0d47204",
   "metadata": {},
   "outputs": [],
   "source": []
  }
 ],
 "metadata": {
  "kernelspec": {
   "display_name": "Python 3",
   "language": "python",
   "name": "python3"
  },
  "language_info": {
   "codemirror_mode": {
    "name": "ipython",
    "version": 3
   },
   "file_extension": ".py",
   "mimetype": "text/x-python",
   "name": "python",
   "nbconvert_exporter": "python",
   "pygments_lexer": "ipython3",
   "version": "3.9.4"
  }
 },
 "nbformat": 4,
 "nbformat_minor": 5
}
