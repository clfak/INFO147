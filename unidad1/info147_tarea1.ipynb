{
 "cells": [
  {
   "cell_type": "markdown",
   "metadata": {},
   "source": [
    "# Tarea 1: Explorando datos mundiales de COVID-19 \n",
    "\n",
    "En esta actividad se pide que explore los datos del repositorio [\"COVID-19 Data Repository by the Center for Systems Science and Engineering (CSSE) at Johns Hopkins University\"](https://github.com/CSSEGISandData/COVID-19)\n",
    "\n",
    "Adjunto a este cuadernillo encontrará los datos al 26 de Abril de 2021 de dicho repositorio en el archivo `data.zip`. Luego de descomprimir debería observar cuatro archivos\n",
    "\n",
    "- `covid19_confirmados.csv` : Número de casos diarios acumulado reportados como COVID-19 positivos (confirmados)\n",
    "- `covid19_recuperados.csv` : Número de casos diarios acumulado reportados como recuperados \n",
    "- `covid19_decesos.csv` : Número de decesos diarios por COVID-19 acumulado \n",
    "- `population_by_country_2020.csv`:  Población por país más otros indicadores socioeconómicos al 2020 descargados desde: https://www.kaggle.com/tanuprabhu/population-by-country-2020\n",
    "\n",
    "En los primeros tres archivos cada fila corresponde a un país o un estado/provincia de un país. Las columnas son las coordenadas geográficas (latitud y longitud) y el número de casos diarios para cada día desde Enero de 2020 a la fecha. Según quienes compilaron este repositorio, la información de casos recuperados debe analizarse con cautela pues podría estar considerablemente subestimada. \n",
    "\n",
    "A modo de ejemplo se muestra a continuación una gráfica de la series de tiempo del número de casos confirmados totales acumulados de Chile, Argentina y Bolivia \n",
    "\n",
    "![](https://i.imgur.com/7YVYk11.png)\n",
    "\n",
    "A partir de esta información se puede calcular la serie de tiempo de los casos confirmados \"nuevos\" por día\n",
    "\n",
    "![](https://i.imgur.com/baWnqxt.png)\n",
    "\n",
    "En esta tarea se pide que procese, visualice, analice y discuta en base a estos datos. Escriba las rutinas de Python necesarias para resolver las actividades específicas que encontrará en este enunciado. **Use las librerías vistas en el curso**. Discuta con sus compañeros de grupo y complete con su análisis donde corresponda."
   ]
  },
  {
   "cell_type": "markdown",
   "metadata": {},
   "source": [
    "## Instrucciones generales \n",
    "\n",
    "1. Forme un grupo de **máximo tres estudiantes**\n",
    "1. Versione su trabajo usando un **repositorio privado de github**. Agregue a sus compañeros y a su profesor (usuario github: phuijse) en la pestaña *Settings/Manage access*. No se aceptarán consultas de programación si no se cumple este requisito\n",
    "1. Su tarea se evaluará en base al último commit antes de la fecha de entrega: **14:10 del Martes 11 de Mayo de 2021**. La nota se calcula como (\"pt totales\" + 1)\n",
    "1. [Sean leales y honestos](https://www.acm.org/about-acm/code-of-ethics-in-spanish), no copie ni comparta resultados con otros grupos"
   ]
  },
  {
   "cell_type": "markdown",
   "metadata": {},
   "source": [
    "## Enunciado"
   ]
  },
  {
   "cell_type": "markdown",
   "metadata": {},
   "source": [
    "### Preparación de datos (1.5pt)"
   ]
  },
  {
   "cell_type": "markdown",
   "metadata": {},
   "source": [
    "1. Explore el archivo `covid19_confirmados.csv` y configure la función `read_csv` de pandas para importarlo como un `DataFrame`. \n",
    "    1. Utilice el nombre de país como índice principal\n",
    "    1. Elimine las columnas `Lat` y `Long`\n",
    "    1. Use TimeStamps para los \"nombres de columna\" asociados a fechas\n",
    "    1. Reduzca la columna `Province/State`, el DataFrame resultante debe tener los totales a nivel país\n",
    "1. Explore el archivo `population_by_country_2020.csv` y configure la función `read_csv` de pandas para importarlo como un `DataFrame`. \n",
    "    1. Utilice el nombre de país como índice principal. Algunos siglas o nombres podrían no calzar con el `DataFrame` anterior, modifíquelos manualmente o usando pandas. \n",
    "1. Haga un `merge` de los `DataFrame` anteriores. El objetivo es asignar un valor de `Population` a cada elemento del primer `DataFrame`. Indique las filas donde no se puede realizar el `merge` y luego descártelas de su `DataFrame` final\n",
    "1. Repita el procedimiento anterior para los archivos `covid19_recuperados.csv` y `covid19_muertes.csv` "
   ]
  },
  {
   "cell_type": "markdown",
   "metadata": {},
   "source": [
    "----"
   ]
  },
  {
   "cell_type": "code",
   "execution_count": 1,
   "metadata": {},
   "outputs": [],
   "source": [
    "import matplotlib.pyplot as plt\n",
    "import numpy as np \n",
    "import pandas as pd\n",
    "import ipywidgets as widgets\n",
    "import datetime"
   ]
  },
  {
   "cell_type": "markdown",
   "metadata": {},
   "source": [
    "#### 1. Explore el archivo `covid19_confirmados.csv` y configure la función `read_csv` de pandas para importarlo como un `DataFrame`. \n",
    "    A. Utilice el nombre de país como índice principal\n",
    "    B. Elimine las columnas `Lat` y `Long`\n",
    "    C. Use TimeStamps para los \"nombres de columna\" asociados a fechas\n",
    "    D. Reduzca la columna `Province/State`, el DataFrame resultante debe tener los totales a nivel país\n"
   ]
  },
  {
   "cell_type": "code",
   "execution_count": 2,
   "metadata": {},
   "outputs": [],
   "source": [
    "def formatData(path):\n",
    "    #A. Utilizamos el nombre de país como índice principal\n",
    "    df = pd.read_csv(path, index_col ='Country/Region')\n",
    "    df.index.name = 'Pais'\n",
    "    #B. Eliminamos las columnas Lat y Long\n",
    "    df.drop(['Lat', 'Long'], axis = 1 ,inplace = True)\n",
    "    #C. Usamos TimeStamps para los \"nombres de columna\" asociados a fechas\n",
    "    lista_col = [df.columns[0]]\n",
    "    #D. Reducimos la columna Province/State\n",
    "    dict_dias_sum = {}                                            \n",
    "    for i in range(1,df.shape[1],1):\n",
    "        lista_col.append(pd.Timestamp(df.columns[i]).date()) #C. \n",
    "        dict_dias_sum[lista_col[i]] = np.sum # D.\n",
    "    df.columns = lista_col #C.\n",
    "    df = df.groupby('Pais').aggregate(dict_dias_sum) #D.\n",
    "    return df"
   ]
  },
  {
   "cell_type": "code",
   "execution_count": 66,
   "metadata": {},
   "outputs": [
    {
     "data": {
      "text/html": [
       "<div>\n",
       "<style scoped>\n",
       "    .dataframe tbody tr th:only-of-type {\n",
       "        vertical-align: middle;\n",
       "    }\n",
       "\n",
       "    .dataframe tbody tr th {\n",
       "        vertical-align: top;\n",
       "    }\n",
       "\n",
       "    .dataframe thead th {\n",
       "        text-align: right;\n",
       "    }\n",
       "</style>\n",
       "<table border=\"1\" class=\"dataframe\">\n",
       "  <thead>\n",
       "    <tr style=\"text-align: right;\">\n",
       "      <th></th>\n",
       "      <th>2020-01-22</th>\n",
       "      <th>2020-01-23</th>\n",
       "      <th>2020-01-24</th>\n",
       "      <th>2020-01-25</th>\n",
       "      <th>2020-01-26</th>\n",
       "      <th>2020-01-27</th>\n",
       "      <th>2020-01-28</th>\n",
       "      <th>2020-01-29</th>\n",
       "      <th>2020-01-30</th>\n",
       "      <th>2020-01-31</th>\n",
       "      <th>...</th>\n",
       "      <th>2021-04-16</th>\n",
       "      <th>2021-04-17</th>\n",
       "      <th>2021-04-18</th>\n",
       "      <th>2021-04-19</th>\n",
       "      <th>2021-04-20</th>\n",
       "      <th>2021-04-21</th>\n",
       "      <th>2021-04-22</th>\n",
       "      <th>2021-04-23</th>\n",
       "      <th>2021-04-24</th>\n",
       "      <th>2021-04-25</th>\n",
       "    </tr>\n",
       "    <tr>\n",
       "      <th>Pais</th>\n",
       "      <th></th>\n",
       "      <th></th>\n",
       "      <th></th>\n",
       "      <th></th>\n",
       "      <th></th>\n",
       "      <th></th>\n",
       "      <th></th>\n",
       "      <th></th>\n",
       "      <th></th>\n",
       "      <th></th>\n",
       "      <th></th>\n",
       "      <th></th>\n",
       "      <th></th>\n",
       "      <th></th>\n",
       "      <th></th>\n",
       "      <th></th>\n",
       "      <th></th>\n",
       "      <th></th>\n",
       "      <th></th>\n",
       "      <th></th>\n",
       "      <th></th>\n",
       "    </tr>\n",
       "  </thead>\n",
       "  <tbody>\n",
       "    <tr>\n",
       "      <th>Afghanistan</th>\n",
       "      <td>0</td>\n",
       "      <td>0</td>\n",
       "      <td>0</td>\n",
       "      <td>0</td>\n",
       "      <td>0</td>\n",
       "      <td>0</td>\n",
       "      <td>0</td>\n",
       "      <td>0</td>\n",
       "      <td>0</td>\n",
       "      <td>0</td>\n",
       "      <td>...</td>\n",
       "      <td>57612</td>\n",
       "      <td>57721</td>\n",
       "      <td>57793</td>\n",
       "      <td>57898</td>\n",
       "      <td>58037</td>\n",
       "      <td>58214</td>\n",
       "      <td>58312</td>\n",
       "      <td>58542</td>\n",
       "      <td>58730</td>\n",
       "      <td>58843</td>\n",
       "    </tr>\n",
       "    <tr>\n",
       "      <th>Albania</th>\n",
       "      <td>0</td>\n",
       "      <td>0</td>\n",
       "      <td>0</td>\n",
       "      <td>0</td>\n",
       "      <td>0</td>\n",
       "      <td>0</td>\n",
       "      <td>0</td>\n",
       "      <td>0</td>\n",
       "      <td>0</td>\n",
       "      <td>0</td>\n",
       "      <td>...</td>\n",
       "      <td>129307</td>\n",
       "      <td>129456</td>\n",
       "      <td>129594</td>\n",
       "      <td>129694</td>\n",
       "      <td>129842</td>\n",
       "      <td>129980</td>\n",
       "      <td>130114</td>\n",
       "      <td>130270</td>\n",
       "      <td>130409</td>\n",
       "      <td>130537</td>\n",
       "    </tr>\n",
       "    <tr>\n",
       "      <th>Algeria</th>\n",
       "      <td>0</td>\n",
       "      <td>0</td>\n",
       "      <td>0</td>\n",
       "      <td>0</td>\n",
       "      <td>0</td>\n",
       "      <td>0</td>\n",
       "      <td>0</td>\n",
       "      <td>0</td>\n",
       "      <td>0</td>\n",
       "      <td>0</td>\n",
       "      <td>...</td>\n",
       "      <td>119323</td>\n",
       "      <td>119486</td>\n",
       "      <td>119642</td>\n",
       "      <td>119805</td>\n",
       "      <td>119992</td>\n",
       "      <td>120174</td>\n",
       "      <td>120363</td>\n",
       "      <td>120562</td>\n",
       "      <td>120736</td>\n",
       "      <td>120922</td>\n",
       "    </tr>\n",
       "    <tr>\n",
       "      <th>Andorra</th>\n",
       "      <td>0</td>\n",
       "      <td>0</td>\n",
       "      <td>0</td>\n",
       "      <td>0</td>\n",
       "      <td>0</td>\n",
       "      <td>0</td>\n",
       "      <td>0</td>\n",
       "      <td>0</td>\n",
       "      <td>0</td>\n",
       "      <td>0</td>\n",
       "      <td>...</td>\n",
       "      <td>12712</td>\n",
       "      <td>12771</td>\n",
       "      <td>12805</td>\n",
       "      <td>12805</td>\n",
       "      <td>12874</td>\n",
       "      <td>12917</td>\n",
       "      <td>12942</td>\n",
       "      <td>13007</td>\n",
       "      <td>13024</td>\n",
       "      <td>13060</td>\n",
       "    </tr>\n",
       "    <tr>\n",
       "      <th>Angola</th>\n",
       "      <td>0</td>\n",
       "      <td>0</td>\n",
       "      <td>0</td>\n",
       "      <td>0</td>\n",
       "      <td>0</td>\n",
       "      <td>0</td>\n",
       "      <td>0</td>\n",
       "      <td>0</td>\n",
       "      <td>0</td>\n",
       "      <td>0</td>\n",
       "      <td>...</td>\n",
       "      <td>24122</td>\n",
       "      <td>24300</td>\n",
       "      <td>24389</td>\n",
       "      <td>24518</td>\n",
       "      <td>24661</td>\n",
       "      <td>24883</td>\n",
       "      <td>25051</td>\n",
       "      <td>25279</td>\n",
       "      <td>25492</td>\n",
       "      <td>25609</td>\n",
       "    </tr>\n",
       "    <tr>\n",
       "      <th>...</th>\n",
       "      <td>...</td>\n",
       "      <td>...</td>\n",
       "      <td>...</td>\n",
       "      <td>...</td>\n",
       "      <td>...</td>\n",
       "      <td>...</td>\n",
       "      <td>...</td>\n",
       "      <td>...</td>\n",
       "      <td>...</td>\n",
       "      <td>...</td>\n",
       "      <td>...</td>\n",
       "      <td>...</td>\n",
       "      <td>...</td>\n",
       "      <td>...</td>\n",
       "      <td>...</td>\n",
       "      <td>...</td>\n",
       "      <td>...</td>\n",
       "      <td>...</td>\n",
       "      <td>...</td>\n",
       "      <td>...</td>\n",
       "      <td>...</td>\n",
       "    </tr>\n",
       "    <tr>\n",
       "      <th>Vietnam</th>\n",
       "      <td>0</td>\n",
       "      <td>2</td>\n",
       "      <td>2</td>\n",
       "      <td>2</td>\n",
       "      <td>2</td>\n",
       "      <td>2</td>\n",
       "      <td>2</td>\n",
       "      <td>2</td>\n",
       "      <td>2</td>\n",
       "      <td>2</td>\n",
       "      <td>...</td>\n",
       "      <td>2772</td>\n",
       "      <td>2781</td>\n",
       "      <td>2785</td>\n",
       "      <td>2791</td>\n",
       "      <td>2800</td>\n",
       "      <td>2812</td>\n",
       "      <td>2824</td>\n",
       "      <td>2830</td>\n",
       "      <td>2833</td>\n",
       "      <td>2843</td>\n",
       "    </tr>\n",
       "    <tr>\n",
       "      <th>West Bank and Gaza</th>\n",
       "      <td>0</td>\n",
       "      <td>0</td>\n",
       "      <td>0</td>\n",
       "      <td>0</td>\n",
       "      <td>0</td>\n",
       "      <td>0</td>\n",
       "      <td>0</td>\n",
       "      <td>0</td>\n",
       "      <td>0</td>\n",
       "      <td>0</td>\n",
       "      <td>...</td>\n",
       "      <td>278135</td>\n",
       "      <td>279753</td>\n",
       "      <td>280741</td>\n",
       "      <td>282270</td>\n",
       "      <td>284280</td>\n",
       "      <td>286028</td>\n",
       "      <td>287680</td>\n",
       "      <td>289120</td>\n",
       "      <td>290259</td>\n",
       "      <td>290972</td>\n",
       "    </tr>\n",
       "    <tr>\n",
       "      <th>Yemen</th>\n",
       "      <td>0</td>\n",
       "      <td>0</td>\n",
       "      <td>0</td>\n",
       "      <td>0</td>\n",
       "      <td>0</td>\n",
       "      <td>0</td>\n",
       "      <td>0</td>\n",
       "      <td>0</td>\n",
       "      <td>0</td>\n",
       "      <td>0</td>\n",
       "      <td>...</td>\n",
       "      <td>5715</td>\n",
       "      <td>5770</td>\n",
       "      <td>5812</td>\n",
       "      <td>5858</td>\n",
       "      <td>5918</td>\n",
       "      <td>5960</td>\n",
       "      <td>6020</td>\n",
       "      <td>6056</td>\n",
       "      <td>6105</td>\n",
       "      <td>6137</td>\n",
       "    </tr>\n",
       "    <tr>\n",
       "      <th>Zambia</th>\n",
       "      <td>0</td>\n",
       "      <td>0</td>\n",
       "      <td>0</td>\n",
       "      <td>0</td>\n",
       "      <td>0</td>\n",
       "      <td>0</td>\n",
       "      <td>0</td>\n",
       "      <td>0</td>\n",
       "      <td>0</td>\n",
       "      <td>0</td>\n",
       "      <td>...</td>\n",
       "      <td>90750</td>\n",
       "      <td>90844</td>\n",
       "      <td>90918</td>\n",
       "      <td>90942</td>\n",
       "      <td>91042</td>\n",
       "      <td>91119</td>\n",
       "      <td>91189</td>\n",
       "      <td>91251</td>\n",
       "      <td>91317</td>\n",
       "      <td>91358</td>\n",
       "    </tr>\n",
       "    <tr>\n",
       "      <th>Zimbabwe</th>\n",
       "      <td>0</td>\n",
       "      <td>0</td>\n",
       "      <td>0</td>\n",
       "      <td>0</td>\n",
       "      <td>0</td>\n",
       "      <td>0</td>\n",
       "      <td>0</td>\n",
       "      <td>0</td>\n",
       "      <td>0</td>\n",
       "      <td>0</td>\n",
       "      <td>...</td>\n",
       "      <td>37534</td>\n",
       "      <td>37699</td>\n",
       "      <td>37751</td>\n",
       "      <td>37859</td>\n",
       "      <td>37875</td>\n",
       "      <td>37980</td>\n",
       "      <td>38018</td>\n",
       "      <td>38045</td>\n",
       "      <td>38064</td>\n",
       "      <td>38086</td>\n",
       "    </tr>\n",
       "  </tbody>\n",
       "</table>\n",
       "<p>192 rows × 460 columns</p>\n",
       "</div>"
      ],
      "text/plain": [
       "                    2020-01-22  2020-01-23  2020-01-24  2020-01-25  \\\n",
       "Pais                                                                 \n",
       "Afghanistan                  0           0           0           0   \n",
       "Albania                      0           0           0           0   \n",
       "Algeria                      0           0           0           0   \n",
       "Andorra                      0           0           0           0   \n",
       "Angola                       0           0           0           0   \n",
       "...                        ...         ...         ...         ...   \n",
       "Vietnam                      0           2           2           2   \n",
       "West Bank and Gaza           0           0           0           0   \n",
       "Yemen                        0           0           0           0   \n",
       "Zambia                       0           0           0           0   \n",
       "Zimbabwe                     0           0           0           0   \n",
       "\n",
       "                    2020-01-26  2020-01-27  2020-01-28  2020-01-29  \\\n",
       "Pais                                                                 \n",
       "Afghanistan                  0           0           0           0   \n",
       "Albania                      0           0           0           0   \n",
       "Algeria                      0           0           0           0   \n",
       "Andorra                      0           0           0           0   \n",
       "Angola                       0           0           0           0   \n",
       "...                        ...         ...         ...         ...   \n",
       "Vietnam                      2           2           2           2   \n",
       "West Bank and Gaza           0           0           0           0   \n",
       "Yemen                        0           0           0           0   \n",
       "Zambia                       0           0           0           0   \n",
       "Zimbabwe                     0           0           0           0   \n",
       "\n",
       "                    2020-01-30  2020-01-31  ...  2021-04-16  2021-04-17  \\\n",
       "Pais                                        ...                           \n",
       "Afghanistan                  0           0  ...       57612       57721   \n",
       "Albania                      0           0  ...      129307      129456   \n",
       "Algeria                      0           0  ...      119323      119486   \n",
       "Andorra                      0           0  ...       12712       12771   \n",
       "Angola                       0           0  ...       24122       24300   \n",
       "...                        ...         ...  ...         ...         ...   \n",
       "Vietnam                      2           2  ...        2772        2781   \n",
       "West Bank and Gaza           0           0  ...      278135      279753   \n",
       "Yemen                        0           0  ...        5715        5770   \n",
       "Zambia                       0           0  ...       90750       90844   \n",
       "Zimbabwe                     0           0  ...       37534       37699   \n",
       "\n",
       "                    2021-04-18  2021-04-19  2021-04-20  2021-04-21  \\\n",
       "Pais                                                                 \n",
       "Afghanistan              57793       57898       58037       58214   \n",
       "Albania                 129594      129694      129842      129980   \n",
       "Algeria                 119642      119805      119992      120174   \n",
       "Andorra                  12805       12805       12874       12917   \n",
       "Angola                   24389       24518       24661       24883   \n",
       "...                        ...         ...         ...         ...   \n",
       "Vietnam                   2785        2791        2800        2812   \n",
       "West Bank and Gaza      280741      282270      284280      286028   \n",
       "Yemen                     5812        5858        5918        5960   \n",
       "Zambia                   90918       90942       91042       91119   \n",
       "Zimbabwe                 37751       37859       37875       37980   \n",
       "\n",
       "                    2021-04-22  2021-04-23  2021-04-24  2021-04-25  \n",
       "Pais                                                                \n",
       "Afghanistan              58312       58542       58730       58843  \n",
       "Albania                 130114      130270      130409      130537  \n",
       "Algeria                 120363      120562      120736      120922  \n",
       "Andorra                  12942       13007       13024       13060  \n",
       "Angola                   25051       25279       25492       25609  \n",
       "...                        ...         ...         ...         ...  \n",
       "Vietnam                   2824        2830        2833        2843  \n",
       "West Bank and Gaza      287680      289120      290259      290972  \n",
       "Yemen                     6020        6056        6105        6137  \n",
       "Zambia                   91189       91251       91317       91358  \n",
       "Zimbabwe                 38018       38045       38064       38086  \n",
       "\n",
       "[192 rows x 460 columns]"
      ]
     },
     "metadata": {},
     "output_type": "display_data"
    }
   ],
   "source": [
    "confirmados = formatData('data/covid19_confirmados.csv')\n",
    "display(confirmados)"
   ]
  },
  {
   "cell_type": "markdown",
   "metadata": {},
   "source": [
    "#### 2. Explore el archivo `population_by_country_2020.csv` y configure la función `read_csv` de pandas para importarlo como un `DataFrame`. \n",
    "    A. Utilice el nombre de país como índice principal. Algunos siglas o nombres podrían no calzar con el `DataFrame` anterior, modifíquelos manualmente o usando pandas. \n"
   ]
  },
  {
   "cell_type": "code",
   "execution_count": 4,
   "metadata": {},
   "outputs": [
    {
     "data": {
      "text/plain": [
       "Index(['Population (2020)', 'Yearly Change', 'Net Change', 'Density (P/Km²)',\n",
       "       'Land Area (Km²)', 'Migrants (net)', 'Fert. Rate', 'Med. Age',\n",
       "       'Urban Pop %', 'World Share'],\n",
       "      dtype='object')"
      ]
     },
     "metadata": {},
     "output_type": "display_data"
    },
    {
     "data": {
      "text/plain": [
       "'Población: '"
      ]
     },
     "metadata": {},
     "output_type": "display_data"
    },
    {
     "data": {
      "text/html": [
       "<div>\n",
       "<style scoped>\n",
       "    .dataframe tbody tr th:only-of-type {\n",
       "        vertical-align: middle;\n",
       "    }\n",
       "\n",
       "    .dataframe tbody tr th {\n",
       "        vertical-align: top;\n",
       "    }\n",
       "\n",
       "    .dataframe thead th {\n",
       "        text-align: right;\n",
       "    }\n",
       "</style>\n",
       "<table border=\"1\" class=\"dataframe\">\n",
       "  <thead>\n",
       "    <tr style=\"text-align: right;\">\n",
       "      <th></th>\n",
       "      <th>Population (2020)</th>\n",
       "    </tr>\n",
       "    <tr>\n",
       "      <th>Pais</th>\n",
       "      <th></th>\n",
       "    </tr>\n",
       "  </thead>\n",
       "  <tbody>\n",
       "    <tr>\n",
       "      <th>China</th>\n",
       "      <td>1440297825</td>\n",
       "    </tr>\n",
       "    <tr>\n",
       "      <th>India</th>\n",
       "      <td>1382345085</td>\n",
       "    </tr>\n",
       "    <tr>\n",
       "      <th>US</th>\n",
       "      <td>331341050</td>\n",
       "    </tr>\n",
       "    <tr>\n",
       "      <th>Indonesia</th>\n",
       "      <td>274021604</td>\n",
       "    </tr>\n",
       "    <tr>\n",
       "      <th>Pakistan</th>\n",
       "      <td>221612785</td>\n",
       "    </tr>\n",
       "    <tr>\n",
       "      <th>...</th>\n",
       "      <td>...</td>\n",
       "    </tr>\n",
       "    <tr>\n",
       "      <th>Montserrat</th>\n",
       "      <td>4993</td>\n",
       "    </tr>\n",
       "    <tr>\n",
       "      <th>Falkland Islands</th>\n",
       "      <td>3497</td>\n",
       "    </tr>\n",
       "    <tr>\n",
       "      <th>Niue</th>\n",
       "      <td>1628</td>\n",
       "    </tr>\n",
       "    <tr>\n",
       "      <th>Tokelau</th>\n",
       "      <td>1360</td>\n",
       "    </tr>\n",
       "    <tr>\n",
       "      <th>Holy See</th>\n",
       "      <td>801</td>\n",
       "    </tr>\n",
       "  </tbody>\n",
       "</table>\n",
       "<p>235 rows × 1 columns</p>\n",
       "</div>"
      ],
      "text/plain": [
       "                  Population (2020)\n",
       "Pais                               \n",
       "China                    1440297825\n",
       "India                    1382345085\n",
       "US                        331341050\n",
       "Indonesia                 274021604\n",
       "Pakistan                  221612785\n",
       "...                             ...\n",
       "Montserrat                     4993\n",
       "Falkland Islands               3497\n",
       "Niue                           1628\n",
       "Tokelau                        1360\n",
       "Holy See                        801\n",
       "\n",
       "[235 rows x 1 columns]"
      ]
     },
     "metadata": {},
     "output_type": "display_data"
    }
   ],
   "source": [
    "population = pd.read_csv('data/population_by_country_2020.csv', index_col = 'Country (or dependency)')\n",
    "population.index.name = 'Pais'\n",
    "display(population.columns)\n",
    "population.drop(['Yearly Change', 'Net Change','Density (P/Km²)','Land Area (Km²)',\n",
    "                'Migrants (net)', 'Fert. Rate', 'Med. Age','Urban Pop %', 'World Share'], \n",
    "                 axis = 1 ,inplace = True)\n",
    "display(\"Población: \", population)"
   ]
  },
  {
   "cell_type": "markdown",
   "metadata": {},
   "source": [
    "#### 3.  Haga un `merge` de los `DataFrame` anteriores. El objetivo es asignar un valor de `Population` a cada elemento del primer `DataFrame`. Indique las filas donde no se puede realizar el `merge` y luego descártelas de su `DataFrame` final"
   ]
  },
  {
   "cell_type": "code",
   "execution_count": 5,
   "metadata": {},
   "outputs": [],
   "source": [
    "def mg(df, population):\n",
    "    return pd.merge(df, population, how = 'inner', on= 'Pais')"
   ]
  },
  {
   "cell_type": "code",
   "execution_count": 6,
   "metadata": {},
   "outputs": [
    {
     "data": {
      "text/plain": [
       "'Casos Confirmados: '"
      ]
     },
     "metadata": {},
     "output_type": "display_data"
    },
    {
     "data": {
      "text/html": [
       "<div>\n",
       "<style scoped>\n",
       "    .dataframe tbody tr th:only-of-type {\n",
       "        vertical-align: middle;\n",
       "    }\n",
       "\n",
       "    .dataframe tbody tr th {\n",
       "        vertical-align: top;\n",
       "    }\n",
       "\n",
       "    .dataframe thead th {\n",
       "        text-align: right;\n",
       "    }\n",
       "</style>\n",
       "<table border=\"1\" class=\"dataframe\">\n",
       "  <thead>\n",
       "    <tr style=\"text-align: right;\">\n",
       "      <th></th>\n",
       "      <th>2020-01-22</th>\n",
       "      <th>2020-01-23</th>\n",
       "      <th>2020-01-24</th>\n",
       "      <th>2020-01-25</th>\n",
       "      <th>2020-01-26</th>\n",
       "      <th>2020-01-27</th>\n",
       "      <th>2020-01-28</th>\n",
       "      <th>2020-01-29</th>\n",
       "      <th>2020-01-30</th>\n",
       "      <th>2020-01-31</th>\n",
       "      <th>...</th>\n",
       "      <th>2021-04-17</th>\n",
       "      <th>2021-04-18</th>\n",
       "      <th>2021-04-19</th>\n",
       "      <th>2021-04-20</th>\n",
       "      <th>2021-04-21</th>\n",
       "      <th>2021-04-22</th>\n",
       "      <th>2021-04-23</th>\n",
       "      <th>2021-04-24</th>\n",
       "      <th>2021-04-25</th>\n",
       "      <th>Population (2020)</th>\n",
       "    </tr>\n",
       "    <tr>\n",
       "      <th>Pais</th>\n",
       "      <th></th>\n",
       "      <th></th>\n",
       "      <th></th>\n",
       "      <th></th>\n",
       "      <th></th>\n",
       "      <th></th>\n",
       "      <th></th>\n",
       "      <th></th>\n",
       "      <th></th>\n",
       "      <th></th>\n",
       "      <th></th>\n",
       "      <th></th>\n",
       "      <th></th>\n",
       "      <th></th>\n",
       "      <th></th>\n",
       "      <th></th>\n",
       "      <th></th>\n",
       "      <th></th>\n",
       "      <th></th>\n",
       "      <th></th>\n",
       "      <th></th>\n",
       "    </tr>\n",
       "  </thead>\n",
       "  <tbody>\n",
       "    <tr>\n",
       "      <th>Afghanistan</th>\n",
       "      <td>0</td>\n",
       "      <td>0</td>\n",
       "      <td>0</td>\n",
       "      <td>0</td>\n",
       "      <td>0</td>\n",
       "      <td>0</td>\n",
       "      <td>0</td>\n",
       "      <td>0</td>\n",
       "      <td>0</td>\n",
       "      <td>0</td>\n",
       "      <td>...</td>\n",
       "      <td>57721</td>\n",
       "      <td>57793</td>\n",
       "      <td>57898</td>\n",
       "      <td>58037</td>\n",
       "      <td>58214</td>\n",
       "      <td>58312</td>\n",
       "      <td>58542</td>\n",
       "      <td>58730</td>\n",
       "      <td>58843</td>\n",
       "      <td>39074280</td>\n",
       "    </tr>\n",
       "    <tr>\n",
       "      <th>Albania</th>\n",
       "      <td>0</td>\n",
       "      <td>0</td>\n",
       "      <td>0</td>\n",
       "      <td>0</td>\n",
       "      <td>0</td>\n",
       "      <td>0</td>\n",
       "      <td>0</td>\n",
       "      <td>0</td>\n",
       "      <td>0</td>\n",
       "      <td>0</td>\n",
       "      <td>...</td>\n",
       "      <td>129456</td>\n",
       "      <td>129594</td>\n",
       "      <td>129694</td>\n",
       "      <td>129842</td>\n",
       "      <td>129980</td>\n",
       "      <td>130114</td>\n",
       "      <td>130270</td>\n",
       "      <td>130409</td>\n",
       "      <td>130537</td>\n",
       "      <td>2877239</td>\n",
       "    </tr>\n",
       "    <tr>\n",
       "      <th>Algeria</th>\n",
       "      <td>0</td>\n",
       "      <td>0</td>\n",
       "      <td>0</td>\n",
       "      <td>0</td>\n",
       "      <td>0</td>\n",
       "      <td>0</td>\n",
       "      <td>0</td>\n",
       "      <td>0</td>\n",
       "      <td>0</td>\n",
       "      <td>0</td>\n",
       "      <td>...</td>\n",
       "      <td>119486</td>\n",
       "      <td>119642</td>\n",
       "      <td>119805</td>\n",
       "      <td>119992</td>\n",
       "      <td>120174</td>\n",
       "      <td>120363</td>\n",
       "      <td>120562</td>\n",
       "      <td>120736</td>\n",
       "      <td>120922</td>\n",
       "      <td>43984569</td>\n",
       "    </tr>\n",
       "    <tr>\n",
       "      <th>Andorra</th>\n",
       "      <td>0</td>\n",
       "      <td>0</td>\n",
       "      <td>0</td>\n",
       "      <td>0</td>\n",
       "      <td>0</td>\n",
       "      <td>0</td>\n",
       "      <td>0</td>\n",
       "      <td>0</td>\n",
       "      <td>0</td>\n",
       "      <td>0</td>\n",
       "      <td>...</td>\n",
       "      <td>12771</td>\n",
       "      <td>12805</td>\n",
       "      <td>12805</td>\n",
       "      <td>12874</td>\n",
       "      <td>12917</td>\n",
       "      <td>12942</td>\n",
       "      <td>13007</td>\n",
       "      <td>13024</td>\n",
       "      <td>13060</td>\n",
       "      <td>77287</td>\n",
       "    </tr>\n",
       "    <tr>\n",
       "      <th>Angola</th>\n",
       "      <td>0</td>\n",
       "      <td>0</td>\n",
       "      <td>0</td>\n",
       "      <td>0</td>\n",
       "      <td>0</td>\n",
       "      <td>0</td>\n",
       "      <td>0</td>\n",
       "      <td>0</td>\n",
       "      <td>0</td>\n",
       "      <td>0</td>\n",
       "      <td>...</td>\n",
       "      <td>24300</td>\n",
       "      <td>24389</td>\n",
       "      <td>24518</td>\n",
       "      <td>24661</td>\n",
       "      <td>24883</td>\n",
       "      <td>25051</td>\n",
       "      <td>25279</td>\n",
       "      <td>25492</td>\n",
       "      <td>25609</td>\n",
       "      <td>33032075</td>\n",
       "    </tr>\n",
       "    <tr>\n",
       "      <th>...</th>\n",
       "      <td>...</td>\n",
       "      <td>...</td>\n",
       "      <td>...</td>\n",
       "      <td>...</td>\n",
       "      <td>...</td>\n",
       "      <td>...</td>\n",
       "      <td>...</td>\n",
       "      <td>...</td>\n",
       "      <td>...</td>\n",
       "      <td>...</td>\n",
       "      <td>...</td>\n",
       "      <td>...</td>\n",
       "      <td>...</td>\n",
       "      <td>...</td>\n",
       "      <td>...</td>\n",
       "      <td>...</td>\n",
       "      <td>...</td>\n",
       "      <td>...</td>\n",
       "      <td>...</td>\n",
       "      <td>...</td>\n",
       "      <td>...</td>\n",
       "    </tr>\n",
       "    <tr>\n",
       "      <th>Venezuela</th>\n",
       "      <td>0</td>\n",
       "      <td>0</td>\n",
       "      <td>0</td>\n",
       "      <td>0</td>\n",
       "      <td>0</td>\n",
       "      <td>0</td>\n",
       "      <td>0</td>\n",
       "      <td>0</td>\n",
       "      <td>0</td>\n",
       "      <td>0</td>\n",
       "      <td>...</td>\n",
       "      <td>181903</td>\n",
       "      <td>183190</td>\n",
       "      <td>184595</td>\n",
       "      <td>185736</td>\n",
       "      <td>186745</td>\n",
       "      <td>188063</td>\n",
       "      <td>189381</td>\n",
       "      <td>190523</td>\n",
       "      <td>191518</td>\n",
       "      <td>28421581</td>\n",
       "    </tr>\n",
       "    <tr>\n",
       "      <th>Vietnam</th>\n",
       "      <td>0</td>\n",
       "      <td>2</td>\n",
       "      <td>2</td>\n",
       "      <td>2</td>\n",
       "      <td>2</td>\n",
       "      <td>2</td>\n",
       "      <td>2</td>\n",
       "      <td>2</td>\n",
       "      <td>2</td>\n",
       "      <td>2</td>\n",
       "      <td>...</td>\n",
       "      <td>2781</td>\n",
       "      <td>2785</td>\n",
       "      <td>2791</td>\n",
       "      <td>2800</td>\n",
       "      <td>2812</td>\n",
       "      <td>2824</td>\n",
       "      <td>2830</td>\n",
       "      <td>2833</td>\n",
       "      <td>2843</td>\n",
       "      <td>97490013</td>\n",
       "    </tr>\n",
       "    <tr>\n",
       "      <th>Yemen</th>\n",
       "      <td>0</td>\n",
       "      <td>0</td>\n",
       "      <td>0</td>\n",
       "      <td>0</td>\n",
       "      <td>0</td>\n",
       "      <td>0</td>\n",
       "      <td>0</td>\n",
       "      <td>0</td>\n",
       "      <td>0</td>\n",
       "      <td>0</td>\n",
       "      <td>...</td>\n",
       "      <td>5770</td>\n",
       "      <td>5812</td>\n",
       "      <td>5858</td>\n",
       "      <td>5918</td>\n",
       "      <td>5960</td>\n",
       "      <td>6020</td>\n",
       "      <td>6056</td>\n",
       "      <td>6105</td>\n",
       "      <td>6137</td>\n",
       "      <td>29935468</td>\n",
       "    </tr>\n",
       "    <tr>\n",
       "      <th>Zambia</th>\n",
       "      <td>0</td>\n",
       "      <td>0</td>\n",
       "      <td>0</td>\n",
       "      <td>0</td>\n",
       "      <td>0</td>\n",
       "      <td>0</td>\n",
       "      <td>0</td>\n",
       "      <td>0</td>\n",
       "      <td>0</td>\n",
       "      <td>0</td>\n",
       "      <td>...</td>\n",
       "      <td>90844</td>\n",
       "      <td>90918</td>\n",
       "      <td>90942</td>\n",
       "      <td>91042</td>\n",
       "      <td>91119</td>\n",
       "      <td>91189</td>\n",
       "      <td>91251</td>\n",
       "      <td>91317</td>\n",
       "      <td>91358</td>\n",
       "      <td>18468257</td>\n",
       "    </tr>\n",
       "    <tr>\n",
       "      <th>Zimbabwe</th>\n",
       "      <td>0</td>\n",
       "      <td>0</td>\n",
       "      <td>0</td>\n",
       "      <td>0</td>\n",
       "      <td>0</td>\n",
       "      <td>0</td>\n",
       "      <td>0</td>\n",
       "      <td>0</td>\n",
       "      <td>0</td>\n",
       "      <td>0</td>\n",
       "      <td>...</td>\n",
       "      <td>37699</td>\n",
       "      <td>37751</td>\n",
       "      <td>37859</td>\n",
       "      <td>37875</td>\n",
       "      <td>37980</td>\n",
       "      <td>38018</td>\n",
       "      <td>38045</td>\n",
       "      <td>38064</td>\n",
       "      <td>38086</td>\n",
       "      <td>14899771</td>\n",
       "    </tr>\n",
       "  </tbody>\n",
       "</table>\n",
       "<p>180 rows × 461 columns</p>\n",
       "</div>"
      ],
      "text/plain": [
       "             2020-01-22  2020-01-23  2020-01-24  2020-01-25  2020-01-26  \\\n",
       "Pais                                                                      \n",
       "Afghanistan           0           0           0           0           0   \n",
       "Albania               0           0           0           0           0   \n",
       "Algeria               0           0           0           0           0   \n",
       "Andorra               0           0           0           0           0   \n",
       "Angola                0           0           0           0           0   \n",
       "...                 ...         ...         ...         ...         ...   \n",
       "Venezuela             0           0           0           0           0   \n",
       "Vietnam               0           2           2           2           2   \n",
       "Yemen                 0           0           0           0           0   \n",
       "Zambia                0           0           0           0           0   \n",
       "Zimbabwe              0           0           0           0           0   \n",
       "\n",
       "             2020-01-27  2020-01-28  2020-01-29  2020-01-30  2020-01-31  ...  \\\n",
       "Pais                                                                     ...   \n",
       "Afghanistan           0           0           0           0           0  ...   \n",
       "Albania               0           0           0           0           0  ...   \n",
       "Algeria               0           0           0           0           0  ...   \n",
       "Andorra               0           0           0           0           0  ...   \n",
       "Angola                0           0           0           0           0  ...   \n",
       "...                 ...         ...         ...         ...         ...  ...   \n",
       "Venezuela             0           0           0           0           0  ...   \n",
       "Vietnam               2           2           2           2           2  ...   \n",
       "Yemen                 0           0           0           0           0  ...   \n",
       "Zambia                0           0           0           0           0  ...   \n",
       "Zimbabwe              0           0           0           0           0  ...   \n",
       "\n",
       "             2021-04-17  2021-04-18  2021-04-19  2021-04-20  2021-04-21  \\\n",
       "Pais                                                                      \n",
       "Afghanistan       57721       57793       57898       58037       58214   \n",
       "Albania          129456      129594      129694      129842      129980   \n",
       "Algeria          119486      119642      119805      119992      120174   \n",
       "Andorra           12771       12805       12805       12874       12917   \n",
       "Angola            24300       24389       24518       24661       24883   \n",
       "...                 ...         ...         ...         ...         ...   \n",
       "Venezuela        181903      183190      184595      185736      186745   \n",
       "Vietnam            2781        2785        2791        2800        2812   \n",
       "Yemen              5770        5812        5858        5918        5960   \n",
       "Zambia            90844       90918       90942       91042       91119   \n",
       "Zimbabwe          37699       37751       37859       37875       37980   \n",
       "\n",
       "             2021-04-22  2021-04-23  2021-04-24  2021-04-25  Population (2020)  \n",
       "Pais                                                                            \n",
       "Afghanistan       58312       58542       58730       58843           39074280  \n",
       "Albania          130114      130270      130409      130537            2877239  \n",
       "Algeria          120363      120562      120736      120922           43984569  \n",
       "Andorra           12942       13007       13024       13060              77287  \n",
       "Angola            25051       25279       25492       25609           33032075  \n",
       "...                 ...         ...         ...         ...                ...  \n",
       "Venezuela        188063      189381      190523      191518           28421581  \n",
       "Vietnam            2824        2830        2833        2843           97490013  \n",
       "Yemen              6020        6056        6105        6137           29935468  \n",
       "Zambia            91189       91251       91317       91358           18468257  \n",
       "Zimbabwe          38018       38045       38064       38086           14899771  \n",
       "\n",
       "[180 rows x 461 columns]"
      ]
     },
     "metadata": {},
     "output_type": "display_data"
    }
   ],
   "source": [
    "confirmados = mg(confirmados, population)\n",
    "display(\"Casos Confirmados: \" ,confirmados)"
   ]
  },
  {
   "cell_type": "markdown",
   "metadata": {},
   "source": [
    "#### 4.Repita el procedimiento anterior para los archivos `covid19_recuperados.csv` y `covid19_muertes.csv`"
   ]
  },
  {
   "cell_type": "code",
   "execution_count": 7,
   "metadata": {},
   "outputs": [
    {
     "data": {
      "text/plain": [
       "'Recuperados: '"
      ]
     },
     "metadata": {},
     "output_type": "display_data"
    },
    {
     "data": {
      "text/html": [
       "<div>\n",
       "<style scoped>\n",
       "    .dataframe tbody tr th:only-of-type {\n",
       "        vertical-align: middle;\n",
       "    }\n",
       "\n",
       "    .dataframe tbody tr th {\n",
       "        vertical-align: top;\n",
       "    }\n",
       "\n",
       "    .dataframe thead th {\n",
       "        text-align: right;\n",
       "    }\n",
       "</style>\n",
       "<table border=\"1\" class=\"dataframe\">\n",
       "  <thead>\n",
       "    <tr style=\"text-align: right;\">\n",
       "      <th></th>\n",
       "      <th>2020-01-22</th>\n",
       "      <th>2020-01-23</th>\n",
       "      <th>2020-01-24</th>\n",
       "      <th>2020-01-25</th>\n",
       "      <th>2020-01-26</th>\n",
       "      <th>2020-01-27</th>\n",
       "      <th>2020-01-28</th>\n",
       "      <th>2020-01-29</th>\n",
       "      <th>2020-01-30</th>\n",
       "      <th>2020-01-31</th>\n",
       "      <th>...</th>\n",
       "      <th>2021-04-17</th>\n",
       "      <th>2021-04-18</th>\n",
       "      <th>2021-04-19</th>\n",
       "      <th>2021-04-20</th>\n",
       "      <th>2021-04-21</th>\n",
       "      <th>2021-04-22</th>\n",
       "      <th>2021-04-23</th>\n",
       "      <th>2021-04-24</th>\n",
       "      <th>2021-04-25</th>\n",
       "      <th>Population (2020)</th>\n",
       "    </tr>\n",
       "    <tr>\n",
       "      <th>Pais</th>\n",
       "      <th></th>\n",
       "      <th></th>\n",
       "      <th></th>\n",
       "      <th></th>\n",
       "      <th></th>\n",
       "      <th></th>\n",
       "      <th></th>\n",
       "      <th></th>\n",
       "      <th></th>\n",
       "      <th></th>\n",
       "      <th></th>\n",
       "      <th></th>\n",
       "      <th></th>\n",
       "      <th></th>\n",
       "      <th></th>\n",
       "      <th></th>\n",
       "      <th></th>\n",
       "      <th></th>\n",
       "      <th></th>\n",
       "      <th></th>\n",
       "      <th></th>\n",
       "    </tr>\n",
       "  </thead>\n",
       "  <tbody>\n",
       "    <tr>\n",
       "      <th>Afghanistan</th>\n",
       "      <td>0</td>\n",
       "      <td>0</td>\n",
       "      <td>0</td>\n",
       "      <td>0</td>\n",
       "      <td>0</td>\n",
       "      <td>0</td>\n",
       "      <td>0</td>\n",
       "      <td>0</td>\n",
       "      <td>0</td>\n",
       "      <td>0</td>\n",
       "      <td>...</td>\n",
       "      <td>52116</td>\n",
       "      <td>52168</td>\n",
       "      <td>52244</td>\n",
       "      <td>52272</td>\n",
       "      <td>52301</td>\n",
       "      <td>52348</td>\n",
       "      <td>52363</td>\n",
       "      <td>52392</td>\n",
       "      <td>52489</td>\n",
       "      <td>39074280</td>\n",
       "    </tr>\n",
       "    <tr>\n",
       "      <th>Albania</th>\n",
       "      <td>0</td>\n",
       "      <td>0</td>\n",
       "      <td>0</td>\n",
       "      <td>0</td>\n",
       "      <td>0</td>\n",
       "      <td>0</td>\n",
       "      <td>0</td>\n",
       "      <td>0</td>\n",
       "      <td>0</td>\n",
       "      <td>0</td>\n",
       "      <td>...</td>\n",
       "      <td>101142</td>\n",
       "      <td>101584</td>\n",
       "      <td>102171</td>\n",
       "      <td>102601</td>\n",
       "      <td>103066</td>\n",
       "      <td>103582</td>\n",
       "      <td>104278</td>\n",
       "      <td>105016</td>\n",
       "      <td>105728</td>\n",
       "      <td>2877239</td>\n",
       "    </tr>\n",
       "    <tr>\n",
       "      <th>Algeria</th>\n",
       "      <td>0</td>\n",
       "      <td>0</td>\n",
       "      <td>0</td>\n",
       "      <td>0</td>\n",
       "      <td>0</td>\n",
       "      <td>0</td>\n",
       "      <td>0</td>\n",
       "      <td>0</td>\n",
       "      <td>0</td>\n",
       "      <td>0</td>\n",
       "      <td>...</td>\n",
       "      <td>83286</td>\n",
       "      <td>83397</td>\n",
       "      <td>83514</td>\n",
       "      <td>83636</td>\n",
       "      <td>83765</td>\n",
       "      <td>83900</td>\n",
       "      <td>84038</td>\n",
       "      <td>84167</td>\n",
       "      <td>84299</td>\n",
       "      <td>43984569</td>\n",
       "    </tr>\n",
       "    <tr>\n",
       "      <th>Andorra</th>\n",
       "      <td>0</td>\n",
       "      <td>0</td>\n",
       "      <td>0</td>\n",
       "      <td>0</td>\n",
       "      <td>0</td>\n",
       "      <td>0</td>\n",
       "      <td>0</td>\n",
       "      <td>0</td>\n",
       "      <td>0</td>\n",
       "      <td>0</td>\n",
       "      <td>...</td>\n",
       "      <td>12159</td>\n",
       "      <td>12203</td>\n",
       "      <td>12203</td>\n",
       "      <td>12285</td>\n",
       "      <td>12334</td>\n",
       "      <td>12375</td>\n",
       "      <td>12423</td>\n",
       "      <td>12458</td>\n",
       "      <td>12491</td>\n",
       "      <td>77287</td>\n",
       "    </tr>\n",
       "    <tr>\n",
       "      <th>Angola</th>\n",
       "      <td>0</td>\n",
       "      <td>0</td>\n",
       "      <td>0</td>\n",
       "      <td>0</td>\n",
       "      <td>0</td>\n",
       "      <td>0</td>\n",
       "      <td>0</td>\n",
       "      <td>0</td>\n",
       "      <td>0</td>\n",
       "      <td>0</td>\n",
       "      <td>...</td>\n",
       "      <td>22576</td>\n",
       "      <td>22597</td>\n",
       "      <td>22600</td>\n",
       "      <td>22647</td>\n",
       "      <td>22882</td>\n",
       "      <td>22901</td>\n",
       "      <td>23089</td>\n",
       "      <td>23092</td>\n",
       "      <td>23092</td>\n",
       "      <td>33032075</td>\n",
       "    </tr>\n",
       "    <tr>\n",
       "      <th>...</th>\n",
       "      <td>...</td>\n",
       "      <td>...</td>\n",
       "      <td>...</td>\n",
       "      <td>...</td>\n",
       "      <td>...</td>\n",
       "      <td>...</td>\n",
       "      <td>...</td>\n",
       "      <td>...</td>\n",
       "      <td>...</td>\n",
       "      <td>...</td>\n",
       "      <td>...</td>\n",
       "      <td>...</td>\n",
       "      <td>...</td>\n",
       "      <td>...</td>\n",
       "      <td>...</td>\n",
       "      <td>...</td>\n",
       "      <td>...</td>\n",
       "      <td>...</td>\n",
       "      <td>...</td>\n",
       "      <td>...</td>\n",
       "      <td>...</td>\n",
       "    </tr>\n",
       "    <tr>\n",
       "      <th>Venezuela</th>\n",
       "      <td>0</td>\n",
       "      <td>0</td>\n",
       "      <td>0</td>\n",
       "      <td>0</td>\n",
       "      <td>0</td>\n",
       "      <td>0</td>\n",
       "      <td>0</td>\n",
       "      <td>0</td>\n",
       "      <td>0</td>\n",
       "      <td>0</td>\n",
       "      <td>...</td>\n",
       "      <td>164530</td>\n",
       "      <td>165959</td>\n",
       "      <td>166826</td>\n",
       "      <td>168418</td>\n",
       "      <td>169685</td>\n",
       "      <td>171043</td>\n",
       "      <td>172035</td>\n",
       "      <td>173097</td>\n",
       "      <td>173097</td>\n",
       "      <td>28421581</td>\n",
       "    </tr>\n",
       "    <tr>\n",
       "      <th>Vietnam</th>\n",
       "      <td>0</td>\n",
       "      <td>0</td>\n",
       "      <td>0</td>\n",
       "      <td>0</td>\n",
       "      <td>0</td>\n",
       "      <td>0</td>\n",
       "      <td>0</td>\n",
       "      <td>0</td>\n",
       "      <td>0</td>\n",
       "      <td>0</td>\n",
       "      <td>...</td>\n",
       "      <td>2475</td>\n",
       "      <td>2475</td>\n",
       "      <td>2475</td>\n",
       "      <td>2490</td>\n",
       "      <td>2490</td>\n",
       "      <td>2490</td>\n",
       "      <td>2490</td>\n",
       "      <td>2490</td>\n",
       "      <td>2516</td>\n",
       "      <td>97490013</td>\n",
       "    </tr>\n",
       "    <tr>\n",
       "      <th>Yemen</th>\n",
       "      <td>0</td>\n",
       "      <td>0</td>\n",
       "      <td>0</td>\n",
       "      <td>0</td>\n",
       "      <td>0</td>\n",
       "      <td>0</td>\n",
       "      <td>0</td>\n",
       "      <td>0</td>\n",
       "      <td>0</td>\n",
       "      <td>0</td>\n",
       "      <td>...</td>\n",
       "      <td>2209</td>\n",
       "      <td>2219</td>\n",
       "      <td>2261</td>\n",
       "      <td>2281</td>\n",
       "      <td>2309</td>\n",
       "      <td>2393</td>\n",
       "      <td>2454</td>\n",
       "      <td>2486</td>\n",
       "      <td>2546</td>\n",
       "      <td>29935468</td>\n",
       "    </tr>\n",
       "    <tr>\n",
       "      <th>Zambia</th>\n",
       "      <td>0</td>\n",
       "      <td>0</td>\n",
       "      <td>0</td>\n",
       "      <td>0</td>\n",
       "      <td>0</td>\n",
       "      <td>0</td>\n",
       "      <td>0</td>\n",
       "      <td>0</td>\n",
       "      <td>0</td>\n",
       "      <td>0</td>\n",
       "      <td>...</td>\n",
       "      <td>88555</td>\n",
       "      <td>88718</td>\n",
       "      <td>88860</td>\n",
       "      <td>88900</td>\n",
       "      <td>88956</td>\n",
       "      <td>89117</td>\n",
       "      <td>89256</td>\n",
       "      <td>89403</td>\n",
       "      <td>89574</td>\n",
       "      <td>18468257</td>\n",
       "    </tr>\n",
       "    <tr>\n",
       "      <th>Zimbabwe</th>\n",
       "      <td>0</td>\n",
       "      <td>0</td>\n",
       "      <td>0</td>\n",
       "      <td>0</td>\n",
       "      <td>0</td>\n",
       "      <td>0</td>\n",
       "      <td>0</td>\n",
       "      <td>0</td>\n",
       "      <td>0</td>\n",
       "      <td>0</td>\n",
       "      <td>...</td>\n",
       "      <td>35005</td>\n",
       "      <td>35019</td>\n",
       "      <td>35031</td>\n",
       "      <td>35058</td>\n",
       "      <td>35065</td>\n",
       "      <td>35073</td>\n",
       "      <td>35094</td>\n",
       "      <td>35101</td>\n",
       "      <td>35123</td>\n",
       "      <td>14899771</td>\n",
       "    </tr>\n",
       "  </tbody>\n",
       "</table>\n",
       "<p>180 rows × 461 columns</p>\n",
       "</div>"
      ],
      "text/plain": [
       "             2020-01-22  2020-01-23  2020-01-24  2020-01-25  2020-01-26  \\\n",
       "Pais                                                                      \n",
       "Afghanistan           0           0           0           0           0   \n",
       "Albania               0           0           0           0           0   \n",
       "Algeria               0           0           0           0           0   \n",
       "Andorra               0           0           0           0           0   \n",
       "Angola                0           0           0           0           0   \n",
       "...                 ...         ...         ...         ...         ...   \n",
       "Venezuela             0           0           0           0           0   \n",
       "Vietnam               0           0           0           0           0   \n",
       "Yemen                 0           0           0           0           0   \n",
       "Zambia                0           0           0           0           0   \n",
       "Zimbabwe              0           0           0           0           0   \n",
       "\n",
       "             2020-01-27  2020-01-28  2020-01-29  2020-01-30  2020-01-31  ...  \\\n",
       "Pais                                                                     ...   \n",
       "Afghanistan           0           0           0           0           0  ...   \n",
       "Albania               0           0           0           0           0  ...   \n",
       "Algeria               0           0           0           0           0  ...   \n",
       "Andorra               0           0           0           0           0  ...   \n",
       "Angola                0           0           0           0           0  ...   \n",
       "...                 ...         ...         ...         ...         ...  ...   \n",
       "Venezuela             0           0           0           0           0  ...   \n",
       "Vietnam               0           0           0           0           0  ...   \n",
       "Yemen                 0           0           0           0           0  ...   \n",
       "Zambia                0           0           0           0           0  ...   \n",
       "Zimbabwe              0           0           0           0           0  ...   \n",
       "\n",
       "             2021-04-17  2021-04-18  2021-04-19  2021-04-20  2021-04-21  \\\n",
       "Pais                                                                      \n",
       "Afghanistan       52116       52168       52244       52272       52301   \n",
       "Albania          101142      101584      102171      102601      103066   \n",
       "Algeria           83286       83397       83514       83636       83765   \n",
       "Andorra           12159       12203       12203       12285       12334   \n",
       "Angola            22576       22597       22600       22647       22882   \n",
       "...                 ...         ...         ...         ...         ...   \n",
       "Venezuela        164530      165959      166826      168418      169685   \n",
       "Vietnam            2475        2475        2475        2490        2490   \n",
       "Yemen              2209        2219        2261        2281        2309   \n",
       "Zambia            88555       88718       88860       88900       88956   \n",
       "Zimbabwe          35005       35019       35031       35058       35065   \n",
       "\n",
       "             2021-04-22  2021-04-23  2021-04-24  2021-04-25  Population (2020)  \n",
       "Pais                                                                            \n",
       "Afghanistan       52348       52363       52392       52489           39074280  \n",
       "Albania          103582      104278      105016      105728            2877239  \n",
       "Algeria           83900       84038       84167       84299           43984569  \n",
       "Andorra           12375       12423       12458       12491              77287  \n",
       "Angola            22901       23089       23092       23092           33032075  \n",
       "...                 ...         ...         ...         ...                ...  \n",
       "Venezuela        171043      172035      173097      173097           28421581  \n",
       "Vietnam            2490        2490        2490        2516           97490013  \n",
       "Yemen              2393        2454        2486        2546           29935468  \n",
       "Zambia            89117       89256       89403       89574           18468257  \n",
       "Zimbabwe          35073       35094       35101       35123           14899771  \n",
       "\n",
       "[180 rows x 461 columns]"
      ]
     },
     "metadata": {},
     "output_type": "display_data"
    },
    {
     "data": {
      "text/plain": [
       "'Decesos: '"
      ]
     },
     "metadata": {},
     "output_type": "display_data"
    },
    {
     "data": {
      "text/html": [
       "<div>\n",
       "<style scoped>\n",
       "    .dataframe tbody tr th:only-of-type {\n",
       "        vertical-align: middle;\n",
       "    }\n",
       "\n",
       "    .dataframe tbody tr th {\n",
       "        vertical-align: top;\n",
       "    }\n",
       "\n",
       "    .dataframe thead th {\n",
       "        text-align: right;\n",
       "    }\n",
       "</style>\n",
       "<table border=\"1\" class=\"dataframe\">\n",
       "  <thead>\n",
       "    <tr style=\"text-align: right;\">\n",
       "      <th></th>\n",
       "      <th>2020-01-22</th>\n",
       "      <th>2020-01-23</th>\n",
       "      <th>2020-01-24</th>\n",
       "      <th>2020-01-25</th>\n",
       "      <th>2020-01-26</th>\n",
       "      <th>2020-01-27</th>\n",
       "      <th>2020-01-28</th>\n",
       "      <th>2020-01-29</th>\n",
       "      <th>2020-01-30</th>\n",
       "      <th>2020-01-31</th>\n",
       "      <th>...</th>\n",
       "      <th>2021-04-17</th>\n",
       "      <th>2021-04-18</th>\n",
       "      <th>2021-04-19</th>\n",
       "      <th>2021-04-20</th>\n",
       "      <th>2021-04-21</th>\n",
       "      <th>2021-04-22</th>\n",
       "      <th>2021-04-23</th>\n",
       "      <th>2021-04-24</th>\n",
       "      <th>2021-04-25</th>\n",
       "      <th>Population (2020)</th>\n",
       "    </tr>\n",
       "    <tr>\n",
       "      <th>Pais</th>\n",
       "      <th></th>\n",
       "      <th></th>\n",
       "      <th></th>\n",
       "      <th></th>\n",
       "      <th></th>\n",
       "      <th></th>\n",
       "      <th></th>\n",
       "      <th></th>\n",
       "      <th></th>\n",
       "      <th></th>\n",
       "      <th></th>\n",
       "      <th></th>\n",
       "      <th></th>\n",
       "      <th></th>\n",
       "      <th></th>\n",
       "      <th></th>\n",
       "      <th></th>\n",
       "      <th></th>\n",
       "      <th></th>\n",
       "      <th></th>\n",
       "      <th></th>\n",
       "    </tr>\n",
       "  </thead>\n",
       "  <tbody>\n",
       "    <tr>\n",
       "      <th>Afghanistan</th>\n",
       "      <td>0</td>\n",
       "      <td>0</td>\n",
       "      <td>0</td>\n",
       "      <td>0</td>\n",
       "      <td>0</td>\n",
       "      <td>0</td>\n",
       "      <td>0</td>\n",
       "      <td>0</td>\n",
       "      <td>0</td>\n",
       "      <td>0</td>\n",
       "      <td>...</td>\n",
       "      <td>2539</td>\n",
       "      <td>2539</td>\n",
       "      <td>2546</td>\n",
       "      <td>2549</td>\n",
       "      <td>2557</td>\n",
       "      <td>2561</td>\n",
       "      <td>2565</td>\n",
       "      <td>2572</td>\n",
       "      <td>2582</td>\n",
       "      <td>39074280</td>\n",
       "    </tr>\n",
       "    <tr>\n",
       "      <th>Albania</th>\n",
       "      <td>0</td>\n",
       "      <td>0</td>\n",
       "      <td>0</td>\n",
       "      <td>0</td>\n",
       "      <td>0</td>\n",
       "      <td>0</td>\n",
       "      <td>0</td>\n",
       "      <td>0</td>\n",
       "      <td>0</td>\n",
       "      <td>0</td>\n",
       "      <td>...</td>\n",
       "      <td>2340</td>\n",
       "      <td>2342</td>\n",
       "      <td>2347</td>\n",
       "      <td>2353</td>\n",
       "      <td>2358</td>\n",
       "      <td>2364</td>\n",
       "      <td>2367</td>\n",
       "      <td>2372</td>\n",
       "      <td>2378</td>\n",
       "      <td>2877239</td>\n",
       "    </tr>\n",
       "    <tr>\n",
       "      <th>Algeria</th>\n",
       "      <td>0</td>\n",
       "      <td>0</td>\n",
       "      <td>0</td>\n",
       "      <td>0</td>\n",
       "      <td>0</td>\n",
       "      <td>0</td>\n",
       "      <td>0</td>\n",
       "      <td>0</td>\n",
       "      <td>0</td>\n",
       "      <td>0</td>\n",
       "      <td>...</td>\n",
       "      <td>3152</td>\n",
       "      <td>3155</td>\n",
       "      <td>3160</td>\n",
       "      <td>3165</td>\n",
       "      <td>3172</td>\n",
       "      <td>3181</td>\n",
       "      <td>3190</td>\n",
       "      <td>3198</td>\n",
       "      <td>3207</td>\n",
       "      <td>43984569</td>\n",
       "    </tr>\n",
       "    <tr>\n",
       "      <th>Andorra</th>\n",
       "      <td>0</td>\n",
       "      <td>0</td>\n",
       "      <td>0</td>\n",
       "      <td>0</td>\n",
       "      <td>0</td>\n",
       "      <td>0</td>\n",
       "      <td>0</td>\n",
       "      <td>0</td>\n",
       "      <td>0</td>\n",
       "      <td>0</td>\n",
       "      <td>...</td>\n",
       "      <td>123</td>\n",
       "      <td>123</td>\n",
       "      <td>123</td>\n",
       "      <td>123</td>\n",
       "      <td>123</td>\n",
       "      <td>123</td>\n",
       "      <td>123</td>\n",
       "      <td>124</td>\n",
       "      <td>124</td>\n",
       "      <td>77287</td>\n",
       "    </tr>\n",
       "    <tr>\n",
       "      <th>Angola</th>\n",
       "      <td>0</td>\n",
       "      <td>0</td>\n",
       "      <td>0</td>\n",
       "      <td>0</td>\n",
       "      <td>0</td>\n",
       "      <td>0</td>\n",
       "      <td>0</td>\n",
       "      <td>0</td>\n",
       "      <td>0</td>\n",
       "      <td>0</td>\n",
       "      <td>...</td>\n",
       "      <td>561</td>\n",
       "      <td>561</td>\n",
       "      <td>563</td>\n",
       "      <td>565</td>\n",
       "      <td>570</td>\n",
       "      <td>572</td>\n",
       "      <td>574</td>\n",
       "      <td>577</td>\n",
       "      <td>579</td>\n",
       "      <td>33032075</td>\n",
       "    </tr>\n",
       "    <tr>\n",
       "      <th>...</th>\n",
       "      <td>...</td>\n",
       "      <td>...</td>\n",
       "      <td>...</td>\n",
       "      <td>...</td>\n",
       "      <td>...</td>\n",
       "      <td>...</td>\n",
       "      <td>...</td>\n",
       "      <td>...</td>\n",
       "      <td>...</td>\n",
       "      <td>...</td>\n",
       "      <td>...</td>\n",
       "      <td>...</td>\n",
       "      <td>...</td>\n",
       "      <td>...</td>\n",
       "      <td>...</td>\n",
       "      <td>...</td>\n",
       "      <td>...</td>\n",
       "      <td>...</td>\n",
       "      <td>...</td>\n",
       "      <td>...</td>\n",
       "      <td>...</td>\n",
       "    </tr>\n",
       "    <tr>\n",
       "      <th>Venezuela</th>\n",
       "      <td>0</td>\n",
       "      <td>0</td>\n",
       "      <td>0</td>\n",
       "      <td>0</td>\n",
       "      <td>0</td>\n",
       "      <td>0</td>\n",
       "      <td>0</td>\n",
       "      <td>0</td>\n",
       "      <td>0</td>\n",
       "      <td>0</td>\n",
       "      <td>...</td>\n",
       "      <td>1888</td>\n",
       "      <td>1905</td>\n",
       "      <td>1925</td>\n",
       "      <td>1944</td>\n",
       "      <td>1965</td>\n",
       "      <td>1987</td>\n",
       "      <td>2009</td>\n",
       "      <td>2028</td>\n",
       "      <td>2047</td>\n",
       "      <td>28421581</td>\n",
       "    </tr>\n",
       "    <tr>\n",
       "      <th>Vietnam</th>\n",
       "      <td>0</td>\n",
       "      <td>0</td>\n",
       "      <td>0</td>\n",
       "      <td>0</td>\n",
       "      <td>0</td>\n",
       "      <td>0</td>\n",
       "      <td>0</td>\n",
       "      <td>0</td>\n",
       "      <td>0</td>\n",
       "      <td>0</td>\n",
       "      <td>...</td>\n",
       "      <td>35</td>\n",
       "      <td>35</td>\n",
       "      <td>35</td>\n",
       "      <td>35</td>\n",
       "      <td>35</td>\n",
       "      <td>35</td>\n",
       "      <td>35</td>\n",
       "      <td>35</td>\n",
       "      <td>35</td>\n",
       "      <td>97490013</td>\n",
       "    </tr>\n",
       "    <tr>\n",
       "      <th>Yemen</th>\n",
       "      <td>0</td>\n",
       "      <td>0</td>\n",
       "      <td>0</td>\n",
       "      <td>0</td>\n",
       "      <td>0</td>\n",
       "      <td>0</td>\n",
       "      <td>0</td>\n",
       "      <td>0</td>\n",
       "      <td>0</td>\n",
       "      <td>0</td>\n",
       "      <td>...</td>\n",
       "      <td>1119</td>\n",
       "      <td>1126</td>\n",
       "      <td>1132</td>\n",
       "      <td>1138</td>\n",
       "      <td>1147</td>\n",
       "      <td>1157</td>\n",
       "      <td>1165</td>\n",
       "      <td>1175</td>\n",
       "      <td>1187</td>\n",
       "      <td>29935468</td>\n",
       "    </tr>\n",
       "    <tr>\n",
       "      <th>Zambia</th>\n",
       "      <td>0</td>\n",
       "      <td>0</td>\n",
       "      <td>0</td>\n",
       "      <td>0</td>\n",
       "      <td>0</td>\n",
       "      <td>0</td>\n",
       "      <td>0</td>\n",
       "      <td>0</td>\n",
       "      <td>0</td>\n",
       "      <td>0</td>\n",
       "      <td>...</td>\n",
       "      <td>1234</td>\n",
       "      <td>1235</td>\n",
       "      <td>1236</td>\n",
       "      <td>1236</td>\n",
       "      <td>1238</td>\n",
       "      <td>1240</td>\n",
       "      <td>1245</td>\n",
       "      <td>1245</td>\n",
       "      <td>1246</td>\n",
       "      <td>18468257</td>\n",
       "    </tr>\n",
       "    <tr>\n",
       "      <th>Zimbabwe</th>\n",
       "      <td>0</td>\n",
       "      <td>0</td>\n",
       "      <td>0</td>\n",
       "      <td>0</td>\n",
       "      <td>0</td>\n",
       "      <td>0</td>\n",
       "      <td>0</td>\n",
       "      <td>0</td>\n",
       "      <td>0</td>\n",
       "      <td>0</td>\n",
       "      <td>...</td>\n",
       "      <td>1552</td>\n",
       "      <td>1553</td>\n",
       "      <td>1553</td>\n",
       "      <td>1554</td>\n",
       "      <td>1555</td>\n",
       "      <td>1555</td>\n",
       "      <td>1556</td>\n",
       "      <td>1556</td>\n",
       "      <td>1557</td>\n",
       "      <td>14899771</td>\n",
       "    </tr>\n",
       "  </tbody>\n",
       "</table>\n",
       "<p>180 rows × 461 columns</p>\n",
       "</div>"
      ],
      "text/plain": [
       "             2020-01-22  2020-01-23  2020-01-24  2020-01-25  2020-01-26  \\\n",
       "Pais                                                                      \n",
       "Afghanistan           0           0           0           0           0   \n",
       "Albania               0           0           0           0           0   \n",
       "Algeria               0           0           0           0           0   \n",
       "Andorra               0           0           0           0           0   \n",
       "Angola                0           0           0           0           0   \n",
       "...                 ...         ...         ...         ...         ...   \n",
       "Venezuela             0           0           0           0           0   \n",
       "Vietnam               0           0           0           0           0   \n",
       "Yemen                 0           0           0           0           0   \n",
       "Zambia                0           0           0           0           0   \n",
       "Zimbabwe              0           0           0           0           0   \n",
       "\n",
       "             2020-01-27  2020-01-28  2020-01-29  2020-01-30  2020-01-31  ...  \\\n",
       "Pais                                                                     ...   \n",
       "Afghanistan           0           0           0           0           0  ...   \n",
       "Albania               0           0           0           0           0  ...   \n",
       "Algeria               0           0           0           0           0  ...   \n",
       "Andorra               0           0           0           0           0  ...   \n",
       "Angola                0           0           0           0           0  ...   \n",
       "...                 ...         ...         ...         ...         ...  ...   \n",
       "Venezuela             0           0           0           0           0  ...   \n",
       "Vietnam               0           0           0           0           0  ...   \n",
       "Yemen                 0           0           0           0           0  ...   \n",
       "Zambia                0           0           0           0           0  ...   \n",
       "Zimbabwe              0           0           0           0           0  ...   \n",
       "\n",
       "             2021-04-17  2021-04-18  2021-04-19  2021-04-20  2021-04-21  \\\n",
       "Pais                                                                      \n",
       "Afghanistan        2539        2539        2546        2549        2557   \n",
       "Albania            2340        2342        2347        2353        2358   \n",
       "Algeria            3152        3155        3160        3165        3172   \n",
       "Andorra             123         123         123         123         123   \n",
       "Angola              561         561         563         565         570   \n",
       "...                 ...         ...         ...         ...         ...   \n",
       "Venezuela          1888        1905        1925        1944        1965   \n",
       "Vietnam              35          35          35          35          35   \n",
       "Yemen              1119        1126        1132        1138        1147   \n",
       "Zambia             1234        1235        1236        1236        1238   \n",
       "Zimbabwe           1552        1553        1553        1554        1555   \n",
       "\n",
       "             2021-04-22  2021-04-23  2021-04-24  2021-04-25  Population (2020)  \n",
       "Pais                                                                            \n",
       "Afghanistan        2561        2565        2572        2582           39074280  \n",
       "Albania            2364        2367        2372        2378            2877239  \n",
       "Algeria            3181        3190        3198        3207           43984569  \n",
       "Andorra             123         123         124         124              77287  \n",
       "Angola              572         574         577         579           33032075  \n",
       "...                 ...         ...         ...         ...                ...  \n",
       "Venezuela          1987        2009        2028        2047           28421581  \n",
       "Vietnam              35          35          35          35           97490013  \n",
       "Yemen              1157        1165        1175        1187           29935468  \n",
       "Zambia             1240        1245        1245        1246           18468257  \n",
       "Zimbabwe           1555        1556        1556        1557           14899771  \n",
       "\n",
       "[180 rows x 461 columns]"
      ]
     },
     "metadata": {},
     "output_type": "display_data"
    }
   ],
   "source": [
    "recuperados = mg(formatData('data/covid19_recuperados.csv'),population)\n",
    "decesos = mg(formatData('data/covid19_decesos.csv'),population)\n",
    "display(\"Recuperados: \", recuperados)\n",
    "display(\"Decesos: \",decesos)"
   ]
  },
  {
   "cell_type": "code",
   "execution_count": null,
   "metadata": {},
   "outputs": [],
   "source": []
  },
  {
   "cell_type": "markdown",
   "metadata": {},
   "source": [
    "---"
   ]
  },
  {
   "cell_type": "markdown",
   "metadata": {},
   "source": [
    "### Análisis global (1.5pt)\n",
    "\n",
    "1. Obtenga la cantidad total  a la fecha (26 de Abril) de los casos (a) confirmados, (b) cerrados (recuperados más decesos) y (c) activos (confirmados menos cerrados) por país. En base a estas cantidades calcule el porcentaje de \n",
    "    1. casos activos con respecto al total de confirmados\n",
    "    1. decesos con respecto al total de casos cerrados\n",
    "    1. recuperados con respecto al total de casos cerrados\n",
    "1. Luego calcule las siguientes tasas en base a información a la fecha\n",
    "    1. Tasa de incidencia: confirmados por 100.000 dividido población total\n",
    "    1. Tasa de recuperación: recuperados por 100.000 dividido población total\n",
    "    1. Tasa de mortalidad: decesos por 100.000 dividido población total\n",
    "1. En base a lo anterior muestre los nombres y los valores de los 5 países con\n",
    "    1. La mayor y menor tasa de incidencia, respectivamente\n",
    "    1. La mayor y menor tasa de recuperación, respectivamente\n",
    "    1. La mayor y menor tasa de mortalidad, respectivamente\n",
    "1. Responda, analice y discuta: ¿En qué lugar/ranking se encuentra Chile con respecto a cada una de las métricas de los puntos anteriores? ¿A qué países de la [OCDE](https://es.wikipedia.org/wiki/Organizaci%C3%B3n_para_la_Cooperaci%C3%B3n_y_el_Desarrollo_Econ%C3%B3micos) se parece más? ¿A qué paises de latinoamérica se parece más? "
   ]
  },
  {
   "cell_type": "markdown",
   "metadata": {},
   "source": [
    "#### 1. Obtenga la cantidad total  a la fecha (26 de Abril) de los casos (a) confirmados, (b) cerrados (recuperados más decesos) y (c) activos (confirmados menos cerrados) por país. En base a estas cantidades calcule el porcentaje de \n",
    "    A. casos activos con respecto al total de confirmados\n",
    "    B. decesos con respecto al total de casos cerrados\n",
    "    C. recuperados con respecto al total de casos cerrados"
   ]
  },
  {
   "cell_type": "code",
   "execution_count": 8,
   "metadata": {},
   "outputs": [
    {
     "data": {
      "text/plain": [
       "'Confirmados Totales'"
      ]
     },
     "metadata": {},
     "output_type": "display_data"
    },
    {
     "data": {
      "text/plain": [
       "Pais\n",
       "Afghanistan    14880160\n",
       "Albania        15290074\n",
       "Algeria        23443583\n",
       "Andorra         1922686\n",
       "Angola          3754670\n",
       "                 ...   \n",
       "Venezuela      28763642\n",
       "Vietnam          476360\n",
       "Yemen            741085\n",
       "Zambia         10350726\n",
       "Zimbabwe        5175628\n",
       "Length: 180, dtype: int64"
      ]
     },
     "metadata": {},
     "output_type": "display_data"
    },
    {
     "data": {
      "text/plain": [
       "'Recuperados Totales'"
      ]
     },
     "metadata": {},
     "output_type": "display_data"
    },
    {
     "data": {
      "text/plain": [
       "Pais\n",
       "Afghanistan    12180605\n",
       "Albania        10163097\n",
       "Algeria        16725608\n",
       "Andorra         1747046\n",
       "Angola          2912780\n",
       "                 ...   \n",
       "Venezuela      26412931\n",
       "Vietnam          405154\n",
       "Yemen            597904\n",
       "Zambia          9708423\n",
       "Zimbabwe        4550376\n",
       "Length: 180, dtype: int64"
      ]
     },
     "metadata": {},
     "output_type": "display_data"
    },
    {
     "data": {
      "text/plain": [
       "'Activos Totales'"
      ]
     },
     "metadata": {},
     "output_type": "display_data"
    },
    {
     "data": {
      "text/plain": [
       "Pais\n",
       "Afghanistan    2699555\n",
       "Albania        5126977\n",
       "Algeria        6717975\n",
       "Andorra         175640\n",
       "Angola          841890\n",
       "                ...   \n",
       "Venezuela      2350711\n",
       "Vietnam          71206\n",
       "Yemen           143181\n",
       "Zambia          642303\n",
       "Zimbabwe        625252\n",
       "Length: 180, dtype: int64"
      ]
     },
     "metadata": {},
     "output_type": "display_data"
    }
   ],
   "source": [
    "#(a)Confirmados\n",
    "confirmados_totales = confirmados.iloc[:, 0:460].sum(axis =1)\n",
    "display('Confirmados Totales' ,confirmados_totales)\n",
    "#(b)Cerrados:recuperados más decesos\n",
    "cerrados = recuperados.iloc[:, 0:460].sum(axis =1)+decesos.iloc[:, 0:460].sum(axis =1)\n",
    "display('Recuperados Totales' ,cerrados)\n",
    "#(c)Activos: confirmados menos cerrados\n",
    "activos_totales = confirmados_totales - cerrados\n",
    "display('Activos Totales', activos_totales)"
   ]
  },
  {
   "cell_type": "markdown",
   "metadata": {},
   "source": [
    "    A. casos activos con respecto al total de confirmados"
   ]
  },
  {
   "cell_type": "code",
   "execution_count": 9,
   "metadata": {},
   "outputs": [
    {
     "data": {
      "text/plain": [
       "'Porcentaje Activos respecto a Confirmados Totales'"
      ]
     },
     "metadata": {},
     "output_type": "display_data"
    },
    {
     "data": {
      "text/plain": [
       "Pais\n",
       "Afghanistan    18.141976\n",
       "Albania        33.531407\n",
       "Algeria        28.655923\n",
       "Andorra         9.135137\n",
       "Angola         22.422477\n",
       "                 ...    \n",
       "Venezuela       8.172508\n",
       "Vietnam        14.947939\n",
       "Yemen          19.320456\n",
       "Zambia          6.205391\n",
       "Zimbabwe       12.080698\n",
       "Length: 180, dtype: float64"
      ]
     },
     "metadata": {},
     "output_type": "display_data"
    }
   ],
   "source": [
    "display('Porcentaje Activos respecto a Confirmados Totales', (activos_totales/confirmados_totales)*100)"
   ]
  },
  {
   "cell_type": "markdown",
   "metadata": {},
   "source": [
    "    B. decesos con respecto al total de casos cerrados"
   ]
  },
  {
   "cell_type": "code",
   "execution_count": 10,
   "metadata": {},
   "outputs": [
    {
     "data": {
      "text/plain": [
       "'Porcentaje decesos respecto a cerrados totales'"
      ]
     },
     "metadata": {},
     "output_type": "display_data"
    },
    {
     "data": {
      "text/plain": [
       "Pais\n",
       "Afghanistan     4.733000\n",
       "Albania         2.889454\n",
       "Algeria         4.308824\n",
       "Andorra         1.591029\n",
       "Angola          3.230213\n",
       "                 ...    \n",
       "Venezuela       1.011440\n",
       "Vietnam         2.204841\n",
       "Yemen          32.498361\n",
       "Zambia          1.680427\n",
       "Zimbabwe        4.033842\n",
       "Length: 180, dtype: float64"
      ]
     },
     "metadata": {},
     "output_type": "display_data"
    }
   ],
   "source": [
    "decesos_totales = decesos.iloc[:, 0:460].sum(axis =1)\n",
    "display('Porcentaje decesos respecto a cerrados totales', (decesos_totales/cerrados)*100)"
   ]
  },
  {
   "cell_type": "markdown",
   "metadata": {},
   "source": [
    "    C. recuperados con respecto al total de casos cerrados"
   ]
  },
  {
   "cell_type": "code",
   "execution_count": 11,
   "metadata": {},
   "outputs": [
    {
     "data": {
      "text/plain": [
       "'Porcentaje Recuperados con respecto a Casos Cerrados'"
      ]
     },
     "metadata": {},
     "output_type": "display_data"
    },
    {
     "data": {
      "text/plain": [
       "Pais\n",
       "Afghanistan    95.267000\n",
       "Albania        97.110546\n",
       "Algeria        95.691176\n",
       "Andorra        98.408971\n",
       "Angola         96.769787\n",
       "                 ...    \n",
       "Venezuela      98.988560\n",
       "Vietnam        97.795159\n",
       "Yemen          67.501639\n",
       "Zambia         98.319573\n",
       "Zimbabwe       95.966158\n",
       "Length: 180, dtype: float64"
      ]
     },
     "metadata": {},
     "output_type": "display_data"
    }
   ],
   "source": [
    "recuperados_totales = recuperados.iloc[:, 0:460].sum(axis =1)\n",
    "display('Porcentaje Recuperados con respecto a Casos Cerrados',(recuperados_totales/cerrados)*100)"
   ]
  },
  {
   "cell_type": "markdown",
   "metadata": {},
   "source": [
    "---"
   ]
  },
  {
   "cell_type": "markdown",
   "metadata": {},
   "source": [
    "#### 2. Luego calcule las siguientes tasas en base a información a la fecha\n",
    "    A. Tasa de incidencia: confirmados por 100.000 dividido población total\n",
    "    B. Tasa de recuperación: recuperados por 100.000 dividido población total\n",
    "    C. Tasa de mortalidad: decesos por 100.000 dividido población total"
   ]
  },
  {
   "cell_type": "code",
   "execution_count": 12,
   "metadata": {},
   "outputs": [],
   "source": [
    "poblacion_total = confirmados['Population (2020)'].sum()"
   ]
  },
  {
   "cell_type": "code",
   "execution_count": 13,
   "metadata": {},
   "outputs": [
    {
     "data": {
      "text/plain": [
       "'Tasa de Incidencia'"
      ]
     },
     "metadata": {},
     "output_type": "display_data"
    },
    {
     "data": {
      "text/plain": [
       "Pais\n",
       "Afghanistan    196.966938\n",
       "Albania        202.392922\n",
       "Algeria        310.319967\n",
       "Andorra         25.450370\n",
       "Angola          49.700128\n",
       "                  ...    \n",
       "Venezuela      380.740966\n",
       "Vietnam          6.305522\n",
       "Yemen            9.809655\n",
       "Zambia         137.011350\n",
       "Zimbabwe        68.509183\n",
       "Length: 180, dtype: float64"
      ]
     },
     "metadata": {},
     "output_type": "display_data"
    },
    {
     "data": {
      "text/plain": [
       "'Tasa de Recuperación'"
      ]
     },
     "metadata": {},
     "output_type": "display_data"
    },
    {
     "data": {
      "text/plain": [
       "Pais\n",
       "Afghanistan    153.602075\n",
       "Albania        130.640610\n",
       "Algeria        211.855400\n",
       "Andorra         22.757511\n",
       "Angola          37.310683\n",
       "                  ...    \n",
       "Venezuela      346.088633\n",
       "Vietnam          5.244731\n",
       "Yemen            5.342340\n",
       "Zambia         126.349755\n",
       "Zimbabwe        57.803099\n",
       "Length: 180, dtype: float64"
      ]
     },
     "metadata": {},
     "output_type": "display_data"
    },
    {
     "data": {
      "text/plain": [
       "'Tasa de Mortalidad'"
      ]
     },
     "metadata": {},
     "output_type": "display_data"
    },
    {
     "data": {
      "text/plain": [
       "Pais\n",
       "Afghanistan    7.631169\n",
       "Albania        3.887117\n",
       "Algeria        9.539517\n",
       "Andorra        0.367932\n",
       "Angola         1.245445\n",
       "                 ...   \n",
       "Venezuela      3.536247\n",
       "Vietnam        0.118245\n",
       "Yemen          2.572046\n",
       "Zambia         2.159505\n",
       "Zimbabwe       2.429696\n",
       "Length: 180, dtype: float64"
      ]
     },
     "metadata": {},
     "output_type": "display_data"
    }
   ],
   "source": [
    "#A.\n",
    "tasa_incidencia = confirmados_totales*100000/poblacion_total\n",
    "display(\"Tasa de Incidencia\", tasa_incidencia)\n",
    "#B.\n",
    "tasa_recuperacion = recuperados_totales*100000/poblacion_total\n",
    "display(\"Tasa de Recuperación\", tasa_recuperacion)\n",
    "#C.\n",
    "tasa_mortalidad = decesos_totales*100000/poblacion_total\n",
    "display(\"Tasa de Mortalidad\", tasa_mortalidad)"
   ]
  },
  {
   "cell_type": "markdown",
   "metadata": {},
   "source": [
    "#### 3. En base a lo anterior muestre los nombres y los valores de los 5 países con\n",
    "    A. La mayor y menor tasa de incidencia, respectivamente:"
   ]
  },
  {
   "cell_type": "code",
   "execution_count": 14,
   "metadata": {},
   "outputs": [
    {
     "data": {
      "text/plain": [
       "'Mayor Tasa de incidencia'"
      ]
     },
     "metadata": {},
     "output_type": "display_data"
    },
    {
     "data": {
      "text/plain": [
       "Pais\n",
       "US        65298.055489\n",
       "India     32169.617205\n",
       "Brazil    28188.758194\n",
       "Russia    10132.519619\n",
       "France     8724.664908\n",
       "dtype: float64"
      ]
     },
     "metadata": {},
     "output_type": "display_data"
    },
    {
     "data": {
      "text/plain": [
       "'Menor Tasa de incidencia'"
      ]
     },
     "metadata": {},
     "output_type": "display_data"
    },
    {
     "data": {
      "text/plain": [
       "Pais\n",
       "Micronesia          0.001258\n",
       "Vanuatu             0.003574\n",
       "Samoa               0.005017\n",
       "Marshall Islands    0.008842\n",
       "Solomon Islands     0.041537\n",
       "dtype: float64"
      ]
     },
     "metadata": {},
     "output_type": "display_data"
    }
   ],
   "source": [
    "display(\"Mayor Tasa de incidencia\",tasa_incidencia.sort_values(ascending=False)[:5])\n",
    "display(\"Menor Tasa de incidencia\",tasa_incidencia.sort_values()[:5])"
   ]
  },
  {
   "cell_type": "markdown",
   "metadata": {},
   "source": [
    "    B. La mayor y menor tasa de recuperación, respectivamente:\n",
    "    "
   ]
  },
  {
   "cell_type": "code",
   "execution_count": 15,
   "metadata": {},
   "outputs": [
    {
     "data": {
      "text/plain": [
       "'Mayor Tasa de Recuperación:'"
      ]
     },
     "metadata": {},
     "output_type": "display_data"
    },
    {
     "data": {
      "text/plain": [
       "Pais\n",
       "India     29405.445363\n",
       "Brazil    24488.506476\n",
       "Russia     8451.785756\n",
       "US         6578.357979\n",
       "Turkey     5328.913893\n",
       "dtype: float64"
      ]
     },
     "metadata": {},
     "output_type": "display_data"
    },
    {
     "data": {
      "text/plain": [
       "'Menor Tasa de Recuperación:'"
      ]
     },
     "metadata": {},
     "output_type": "display_data"
    },
    {
     "data": {
      "text/plain": [
       "Pais\n",
       "Sweden              0.000000\n",
       "Micronesia          0.001152\n",
       "Vanuatu             0.001986\n",
       "Samoa               0.003706\n",
       "Marshall Islands    0.007889\n",
       "dtype: float64"
      ]
     },
     "metadata": {},
     "output_type": "display_data"
    }
   ],
   "source": [
    "display(\"Mayor Tasa de Recuperación:\",tasa_recuperacion.sort_values(ascending=False)[:5])\n",
    "display(\"Menor Tasa de Recuperación:\",tasa_recuperacion.sort_values()[:5])"
   ]
  },
  {
   "cell_type": "markdown",
   "metadata": {},
   "source": [
    "    C. La mayor y menor tasa de mortalidad, respectivamente."
   ]
  },
  {
   "cell_type": "code",
   "execution_count": 16,
   "metadata": {},
   "outputs": [
    {
     "data": {
      "text/plain": [
       "'Mayor Tasa de Mortalidad:'"
      ]
     },
     "metadata": {},
     "output_type": "display_data"
    },
    {
     "data": {
      "text/plain": [
       "Pais\n",
       "US                1373.149404\n",
       "Brazil             768.503053\n",
       "India              470.624776\n",
       "Mexico             470.474339\n",
       "United Kingdom     325.369046\n",
       "dtype: float64"
      ]
     },
     "metadata": {},
     "output_type": "display_data"
    },
    {
     "data": {
      "text/plain": [
       "'Menor Tasa de Mortalidad:'"
      ]
     },
     "metadata": {},
     "output_type": "display_data"
    },
    {
     "data": {
      "text/plain": [
       "Pais\n",
       "Laos                0.0\n",
       "Marshall Islands    0.0\n",
       "Micronesia          0.0\n",
       "Holy See            0.0\n",
       "Samoa               0.0\n",
       "dtype: float64"
      ]
     },
     "metadata": {},
     "output_type": "display_data"
    }
   ],
   "source": [
    "display(\"Mayor Tasa de Mortalidad:\",tasa_mortalidad.sort_values(ascending=False)[:5])\n",
    "display(\"Menor Tasa de Mortalidad:\",tasa_mortalidad.sort_values()[:5])"
   ]
  },
  {
   "cell_type": "markdown",
   "metadata": {},
   "source": [
    "----"
   ]
  },
  {
   "cell_type": "markdown",
   "metadata": {},
   "source": [
    "### 4. Responda, analice y discuta: "
   ]
  },
  {
   "cell_type": "markdown",
   "metadata": {},
   "source": [
    "    ¿En qué lugar/ranking se encuentra Chile con respecto a cada una de las métricas de los puntos anteriores? "
   ]
  },
  {
   "cell_type": "code",
   "execution_count": 30,
   "metadata": {
    "scrolled": false
   },
   "outputs": [
    {
     "data": {
      "text/plain": [
       "'Ranking Tasa de incidencia:'"
      ]
     },
     "metadata": {},
     "output_type": "display_data"
    },
    {
     "data": {
      "text/plain": [
       "Pais\n",
       "US                65298.055489\n",
       "India             32169.617205\n",
       "Brazil            28188.758194\n",
       "Russia            10132.519619\n",
       "France             8724.664908\n",
       "United Kingdom     8360.265933\n",
       "Spain              6975.643805\n",
       "Italy              6573.844613\n",
       "Turkey             5925.903739\n",
       "Colombia           5445.449002\n",
       "Germany            5341.020200\n",
       "Argentina          5213.574061\n",
       "Mexico             5027.417791\n",
       "Iran               4096.252797\n",
       "Peru               3941.845404\n",
       "South Africa       3855.247716\n",
       "Poland             3763.347359\n",
       "Ukraine            3131.799280\n",
       "Indonesia          2732.994681\n",
       "Chile              2516.614001\n",
       "Czechia            2407.617508\n",
       "dtype: float64"
      ]
     },
     "metadata": {},
     "output_type": "display_data"
    },
    {
     "name": "stdout",
     "output_type": "stream",
     "text": [
      "Lugar:  19\n"
     ]
    }
   ],
   "source": [
    "idx_chile = tasa_incidencia.sort_values(ascending=False).index.get_loc(\"Chile\")\n",
    "display(\"Ranking Tasa de incidencia:\",tasa_incidencia.sort_values(ascending=False)[:idx_chile+2])\n",
    "print(\"Lugar: \", idx_chile)"
   ]
  },
  {
   "cell_type": "code",
   "execution_count": 29,
   "metadata": {},
   "outputs": [
    {
     "data": {
      "text/plain": [
       "'Ranking Tasa de Mortalidad:'"
      ]
     },
     "metadata": {},
     "output_type": "display_data"
    },
    {
     "data": {
      "text/plain": [
       "Pais\n",
       "US                1373.149404\n",
       "Brazil             768.503053\n",
       "India              470.624776\n",
       "Mexico             470.474339\n",
       "United Kingdom     325.369046\n",
       "Italy              288.678047\n",
       "France             252.600340\n",
       "Spain              216.793234\n",
       "Russia             192.352905\n",
       "Iran               174.374967\n",
       "Colombia           149.218589\n",
       "Peru               145.467124\n",
       "Germany            138.417438\n",
       "Argentina          129.151487\n",
       "South Africa       110.880551\n",
       "Poland              86.790020\n",
       "Indonesia           81.443722\n",
       "Belgium             72.230838\n",
       "Turkey              70.933121\n",
       "Canada              64.216514\n",
       "Chile               63.311654\n",
       "Ukraine             60.438933\n",
       "dtype: float64"
      ]
     },
     "metadata": {},
     "output_type": "display_data"
    },
    {
     "name": "stdout",
     "output_type": "stream",
     "text": [
      "Lugar:  20\n"
     ]
    }
   ],
   "source": [
    "idx_chile = tasa_mortalidad.sort_values(ascending=False).index.get_loc(\"Chile\")\n",
    "display(\"Ranking Tasa de Mortalidad:\", tasa_mortalidad.sort_values(ascending=False)[:idx_chile+2])\n",
    "print(\"Lugar: \", idx_chile)"
   ]
  },
  {
   "cell_type": "code",
   "execution_count": 32,
   "metadata": {},
   "outputs": [
    {
     "data": {
      "text/plain": [
       "'Ranking Tasa de Recuperación'"
      ]
     },
     "metadata": {},
     "output_type": "display_data"
    },
    {
     "data": {
      "text/plain": [
       "Pais\n",
       "India           29405.445363\n",
       "Brazil          24488.506476\n",
       "Russia           8451.785756\n",
       "US               6578.357979\n",
       "Turkey           5328.913893\n",
       "Colombia         4926.409479\n",
       "Italy            4817.021625\n",
       "Germany          4545.889887\n",
       "Argentina        4506.407190\n",
       "Mexico           3937.066611\n",
       "Peru             3470.019076\n",
       "South Africa     3418.586200\n",
       "Iran             3352.220731\n",
       "Poland           2943.613081\n",
       "Chile            2335.279133\n",
       "Indonesia        2284.383808\n",
       "dtype: float64"
      ]
     },
     "metadata": {},
     "output_type": "display_data"
    },
    {
     "name": "stdout",
     "output_type": "stream",
     "text": [
      "Lugar:  14\n"
     ]
    }
   ],
   "source": [
    "idx_chile = tasa_recuperacion.sort_values(ascending=False).index.get_loc(\"Chile\")\n",
    "display(\"Ranking Tasa de Recuperación\", tasa_recuperacion.sort_values(ascending=False)[:idx_chile+2])\n",
    "print(\"Lugar: \", idx_chile)"
   ]
  },
  {
   "cell_type": "markdown",
   "metadata": {},
   "source": [
    "----"
   ]
  },
  {
   "cell_type": "markdown",
   "metadata": {},
   "source": [
    "     ¿A qué países de la OCDE se parece más?"
   ]
  },
  {
   "cell_type": "markdown",
   "metadata": {},
   "source": [
    "**Nota:** se cambiaron los nombres de: \n",
    "* United States → USA\n",
    "* South Korea → Korea, South\n",
    "* Czech Republic (Czechia) → Czechia\n",
    "                                   \n",
    "en `population_by_country_2020.csv`          "
   ]
  },
  {
   "cell_type": "code",
   "execution_count": 33,
   "metadata": {},
   "outputs": [],
   "source": [
    "OCDE = [\"Austria\", \"Australia\", \"Belgium\", \"Canada\", \"Chile\", \"Colombia\", \"Denmark\", \"Estonia\", \n",
    "        \"Finland\", \"France\", \"Germany\", \"Greece\", \"Hungary\", \"Iceland\", \"Ireland\", \"Israel\", \"Italy\", \n",
    "        \"Japan\", \"Latvia\", \"Lithuania\", \"Luxembourg\", \"Mexico\", \"Netherlands\", \"New Zealand\", \"Norway\", \n",
    "        \"Poland\", \"Portugal\", \"Slovenia\", \"Spain\", \"Sweden\", \n",
    "        \"Switzerland\", \"Turkey\", \"US\",\"United Kingdom\", \"Slovakia\", \"Czechia\"]\n",
    "# Fuente: https://www.oecd.org/newsroom/global-oecd-welcomes-colombia-as-its-37th-member.htm"
   ]
  },
  {
   "cell_type": "code",
   "execution_count": 52,
   "metadata": {},
   "outputs": [
    {
     "data": {
      "text/plain": [
       "'Tasa de Incidencia OCDE'"
      ]
     },
     "metadata": {},
     "output_type": "display_data"
    },
    {
     "data": {
      "text/plain": [
       "Pais\n",
       "US                65298.055489\n",
       "France             8724.664908\n",
       "United Kingdom     8360.265933\n",
       "Spain              6975.643805\n",
       "Italy              6573.844613\n",
       "Turkey             5925.903739\n",
       "Colombia           5445.449002\n",
       "Germany            5341.020200\n",
       "Mexico             5027.417791\n",
       "Poland             3763.347359\n",
       "Chile              2516.614001\n",
       "Czechia            2407.617508\n",
       "Netherlands        2391.377361\n",
       "Canada             1973.196481\n",
       "Belgium            1909.596514\n",
       "Israel             1651.120719\n",
       "Portugal           1500.634063\n",
       "Sweden             1422.767026\n",
       "Switzerland        1230.207626\n",
       "Austria            1012.379029\n",
       "Hungary             952.570357\n",
       "Japan               885.638203\n",
       "Slovakia            564.763080\n",
       "Ireland             455.104690\n",
       "Denmark             446.501298\n",
       "Greece              422.950540\n",
       "Lithuania           363.878779\n",
       "Slovenia            359.332505\n",
       "Norway              175.685379\n",
       "Latvia              145.677140\n",
       "Finland             133.245788\n",
       "Luxembourg          130.051436\n",
       "Estonia             126.547726\n",
       "Australia           111.586077\n",
       "Iceland              19.943668\n",
       "New Zealand           9.879692\n",
       "dtype: float64"
      ]
     },
     "metadata": {},
     "output_type": "display_data"
    }
   ],
   "source": [
    "display(\"Tasa de Incidencia OCDE\",tasa_incidencia[OCDE].sort_values(ascending=False))"
   ]
  },
  {
   "cell_type": "code",
   "execution_count": 53,
   "metadata": {},
   "outputs": [
    {
     "data": {
      "text/plain": [
       "'Tasa de Mortalidad OCDE'"
      ]
     },
     "metadata": {},
     "output_type": "display_data"
    },
    {
     "data": {
      "text/plain": [
       "Pais\n",
       "US                1373.149404\n",
       "Mexico             470.474339\n",
       "United Kingdom     325.369046\n",
       "Italy              288.678047\n",
       "France             252.600340\n",
       "Spain              216.793234\n",
       "Colombia           149.218589\n",
       "Germany            138.417438\n",
       "Poland              86.790020\n",
       "Belgium             72.230838\n",
       "Turkey              70.933121\n",
       "Canada              64.216514\n",
       "Chile               63.311654\n",
       "Netherlands         47.241350\n",
       "Czechia             39.435984\n",
       "Sweden              37.760340\n",
       "Hungary             30.773529\n",
       "Portugal            29.895342\n",
       "Switzerland         24.146696\n",
       "Austria             17.534118\n",
       "Japan               15.876728\n",
       "Greece              13.227313\n",
       "Israel              12.673495\n",
       "Ireland             12.090437\n",
       "Slovakia            11.547486\n",
       "Slovenia             7.215994\n",
       "Denmark              5.694070\n",
       "Lithuania            5.527259\n",
       "Australia            3.143667\n",
       "Latvia               2.612061\n",
       "Finland              2.309399\n",
       "Norway               1.884853\n",
       "Luxembourg           1.566757\n",
       "Estonia              1.242295\n",
       "New Zealand          0.118152\n",
       "Iceland              0.092777\n",
       "dtype: float64"
      ]
     },
     "metadata": {},
     "output_type": "display_data"
    }
   ],
   "source": [
    "display(\"Tasa de Mortalidad OCDE\",tasa_mortalidad[OCDE].sort_values(ascending=False))"
   ]
  },
  {
   "cell_type": "code",
   "execution_count": 54,
   "metadata": {},
   "outputs": [
    {
     "data": {
      "text/plain": [
       "'Tasa de Recuperación OCDE'"
      ]
     },
     "metadata": {},
     "output_type": "display_data"
    },
    {
     "data": {
      "text/plain": [
       "Pais\n",
       "US                6578.357979\n",
       "Turkey            5328.913893\n",
       "Colombia          4926.409479\n",
       "Italy             4817.021625\n",
       "Germany           4545.889887\n",
       "Mexico            3937.066611\n",
       "Poland            2943.613081\n",
       "Chile             2335.279133\n",
       "Czechia           2039.278429\n",
       "Canada            1724.063688\n",
       "Israel            1505.624275\n",
       "Portugal          1235.948330\n",
       "Austria            905.613970\n",
       "Japan              776.881669\n",
       "Switzerland        757.027708\n",
       "France             751.279882\n",
       "Spain              741.210585\n",
       "Hungary            555.521948\n",
       "Slovakia           411.531981\n",
       "Denmark            397.947683\n",
       "Slovenia           308.649102\n",
       "Lithuania          302.196148\n",
       "Greece             201.054448\n",
       "Latvia             117.682099\n",
       "Luxembourg         113.734344\n",
       "Ireland            110.561569\n",
       "Estonia             96.164579\n",
       "Finland             92.442050\n",
       "Australia           85.078253\n",
       "Norway              60.920358\n",
       "Belgium             50.271167\n",
       "Netherlands         31.855843\n",
       "United Kingdom      24.010237\n",
       "Iceland             18.575159\n",
       "New Zealand          9.200322\n",
       "Sweden               0.000000\n",
       "dtype: float64"
      ]
     },
     "metadata": {},
     "output_type": "display_data"
    }
   ],
   "source": [
    "display(\"Tasa de Recuperación OCDE\", tasa_recuperacion[OCDE].sort_values(ascending=False))"
   ]
  },
  {
   "cell_type": "markdown",
   "metadata": {},
   "source": [
    "**COMENTARIOS:**"
   ]
  },
  {
   "cell_type": "markdown",
   "metadata": {},
   "source": [
    "-----"
   ]
  },
  {
   "cell_type": "markdown",
   "metadata": {},
   "source": [
    "     ¿A qué paises de latinoamérica se parece más?"
   ]
  },
  {
   "cell_type": "code",
   "execution_count": 57,
   "metadata": {},
   "outputs": [],
   "source": [
    "LATAM = [\"Argentina\", \"Bolivia\", \"Brazil\", \"Chile\", \"Colombia\", \"Costa Rica\", \"Cuba\", \"Dominican Republic\", \n",
    "         \"Ecuador\", \"El Salvador\", \"Guatemala\", \"Honduras\", \"Mexico\", \"Nicaragua\", \"Panama\", \"Paraguay\", \n",
    "         \"Peru\", \"Haiti\", \"Uruguay\", \"Venezuela\"]\n",
    "\n",
    "# Fuente: https://en.wikipedia.org/wiki/Latin_Americans"
   ]
  },
  {
   "cell_type": "code",
   "execution_count": 58,
   "metadata": {},
   "outputs": [
    {
     "data": {
      "text/plain": [
       "'Tasa de Incidencia LATAM'"
      ]
     },
     "metadata": {},
     "output_type": "display_data"
    },
    {
     "data": {
      "text/plain": [
       "Pais\n",
       "Brazil                28188.758194\n",
       "Colombia               5445.449002\n",
       "Argentina              5213.574061\n",
       "Mexico                 5027.417791\n",
       "Peru                   3941.845404\n",
       "Chile                  2516.614001\n",
       "Ecuador                 808.617374\n",
       "Panama                  805.867412\n",
       "Bolivia                 664.716385\n",
       "Dominican Republic      630.610431\n",
       "Costa Rica              502.350421\n",
       "Guatemala               485.502503\n",
       "Honduras                444.189503\n",
       "Venezuela               380.740966\n",
       "Paraguay                367.607966\n",
       "El Salvador             161.621389\n",
       "Uruguay                 121.609270\n",
       "Cuba                     92.772495\n",
       "Haiti                    40.736693\n",
       "Nicaragua                22.357956\n",
       "dtype: float64"
      ]
     },
     "metadata": {},
     "output_type": "display_data"
    }
   ],
   "source": [
    "display(\"Tasa de Incidencia LATAM\", tasa_incidencia[LATAM].sort_values(ascending=False))"
   ]
  },
  {
   "cell_type": "code",
   "execution_count": 59,
   "metadata": {},
   "outputs": [
    {
     "data": {
      "text/plain": [
       "'Tasa de Mortalidad LATAM'"
      ]
     },
     "metadata": {},
     "output_type": "display_data"
    },
    {
     "data": {
      "text/plain": [
       "Pais\n",
       "Brazil                768.503053\n",
       "Mexico                470.474339\n",
       "Colombia              149.218589\n",
       "Peru                  145.467124\n",
       "Argentina             129.151487\n",
       "Chile                  63.311654\n",
       "Ecuador                51.347021\n",
       "Bolivia                33.510665\n",
       "Guatemala              17.230477\n",
       "Panama                 14.489450\n",
       "Honduras               11.684607\n",
       "Dominican Republic      9.584774\n",
       "Paraguay                7.500984\n",
       "Costa Rica              6.500382\n",
       "El Salvador             4.761135\n",
       "Venezuela               3.536247\n",
       "Uruguay                 1.331326\n",
       "Haiti                   0.914351\n",
       "Cuba                    0.838927\n",
       "Nicaragua               0.637541\n",
       "dtype: float64"
      ]
     },
     "metadata": {},
     "output_type": "display_data"
    }
   ],
   "source": [
    "display('Tasa de Mortalidad LATAM', tasa_mortalidad[LATAM].sort_values(ascending=False))"
   ]
  },
  {
   "cell_type": "code",
   "execution_count": 60,
   "metadata": {},
   "outputs": [
    {
     "data": {
      "text/plain": [
       "'Tasa de Recuperacion LATAM'"
      ]
     },
     "metadata": {},
     "output_type": "display_data"
    },
    {
     "data": {
      "text/plain": [
       "Pais\n",
       "Brazil                24488.506476\n",
       "Colombia               4926.409479\n",
       "Argentina              4506.407190\n",
       "Mexico                 3937.066611\n",
       "Peru                   3470.019076\n",
       "Chile                  2335.279133\n",
       "Panama                  696.044011\n",
       "Ecuador                 657.917631\n",
       "Bolivia                 486.314335\n",
       "Dominican Republic      483.352357\n",
       "Guatemala               427.413938\n",
       "Costa Rica              377.673199\n",
       "Venezuela               346.088633\n",
       "Paraguay                285.774431\n",
       "Honduras                167.638810\n",
       "El Salvador             138.544525\n",
       "Uruguay                  98.299768\n",
       "Cuba                     83.547129\n",
       "Haiti                    30.637917\n",
       "Nicaragua                15.106752\n",
       "dtype: float64"
      ]
     },
     "metadata": {},
     "output_type": "display_data"
    }
   ],
   "source": [
    "display('Tasa de Recuperacion LATAM', tasa_recuperacion[LATAM].sort_values(ascending=False))"
   ]
  },
  {
   "cell_type": "markdown",
   "metadata": {},
   "source": [
    "**COMENTARIOS:**"
   ]
  },
  {
   "cell_type": "markdown",
   "metadata": {},
   "source": [
    "----"
   ]
  },
  {
   "cell_type": "markdown",
   "metadata": {},
   "source": [
    "### Análisis temporal y comparativo (2.0pt)\n",
    "\n",
    "1. Construya una interfaz gráfica usando `ipywidgets` y `matplotlib` que permita realizar comparaciones entre las series de tiempo de COVID-19 de dos países seleccionados arbitrariamente. A modo de simplificación considere sólo los países de la [OCDE](https://es.wikipedia.org/wiki/Organizaci%C3%B3n_para_la_Cooperaci%C3%B3n_y_el_Desarrollo_Econ%C3%B3micos). Requerimientos:\n",
    "    1. La interfaz debe incluir controles para escoger dos países a partir de una lista\n",
    "    1. La interfaz debe incluir tres [tabs](https://ipywidgets.readthedocs.io/en/latest/examples/Widget%20List.html#Tabs), el primero debe mostrar las series de tiempo de ambos países de los casos confirmados, el segundo la de recuperados y el tercero la de los decesos, respectivamente. Use una leyenda para indicar el nombre de los países.\n",
    "    1. La interfaz debe tener un control que permita escoger entre casos acumulados y casos nuevos  \n",
    "    1. La interfaz debe tener un control que permita escoger entre valores absolutos y valores relativos (tasas por 100.000 habitantes)\n",
    "    1. La interfaz debe tener un control que permita escoger entre valores diarios y valores semanales (acumulados). Para esto último se recomienda usar `groupby` con una [frecuencia lunes a lunes](https://pandas.pydata.org/pandas-docs/stable/user_guide/timeseries.html#anchored-offsets)\n",
    "    \n",
    "En base a su interfaz:   \n",
    "\n",
    "1. Describa en detalle la situación de Chile con respecto a la evolución temporal de las series de tiempo. En particular destaque patrones y comportamientos que considere relevantes y compare lo que observa en las distintas series de tiempo. Considerando la evolución a nivel de semana, conteste ¿En qué fechas ocurre un aumento o disminución notoria de los casos? ¿En qué fechas hay máximos y mínimos?\n",
    "1. Considerando métricas que sean relativas compare el caso de Chile contra cinco países de la OCDE seleccionados por ustedes. Destaque semejanzas y diferencias considerando las cantidades y los posibles desfases temporales existentes.\n"
   ]
  },
  {
   "cell_type": "code",
   "execution_count": 99,
   "metadata": {},
   "outputs": [
    {
     "data": {
      "application/vnd.jupyter.widget-view+json": {
       "model_id": "f0c54a59e96445d5a52f6b5729ee4ab1",
       "version_major": 2,
       "version_minor": 0
      },
      "text/plain": [
       "Tab(children=(interactive(children=(Output(),), _dom_classes=('widget-interact',)), interactive(children=(Outp…"
      ]
     },
     "metadata": {},
     "output_type": "display_data"
    }
   ],
   "source": [
    "pais1_dropdown = widgets.Dropdown(options=list(OCDE),\n",
    "                                description='País:',\n",
    "                                disabled=False)\n",
    "\n",
    "pais2_dropdown = widgets.Dropdown(options=list(OCDE),\n",
    "                                description='País:',\n",
    "                                disabled=False)\n",
    "\n",
    "def generate_plot_confirmados(pais1, pais2):\n",
    "    pais_x_1 = confirmados.loc[pais1].index\n",
    "    pais_y_1 = confirmados.loc[pais1].values\n",
    "    pais_x_1 = pais_x_1[0: len(pais_x_1)-1]\n",
    "    pais_y_1 = pais_y_1[0: len(pais_y_1)-1]\n",
    "    pais_x_2 = confirmados.loc[pais2].index\n",
    "    pais_y_2 = confirmados.loc[pais2].values\n",
    "    pais_x_2 = pais_x_2[0: len(pais_x_2)-1]\n",
    "    pais_y_2 = pais_y_2[0: len(pais_y_2)-1]\n",
    "    fig, ax = plt.subplots(figsize=(12, 8))\n",
    "    ax.plot(pais_x_1,pais_y_1 ,label = pais1);ax.legend()\n",
    "    ax.plot(pais_x_2,pais_y_2, label = pais2);ax.legend()\n",
    "    ax.set(xlabel=\"Fecha\", ylabel=\"Personas\",title=\"Confirmados\")\n",
    "    \n",
    "    plt.show()\n",
    "\n",
    "    \n",
    "def generate_plot_recuperados(pais1, pais2):\n",
    "    pais_x_1 = recuperados.loc[pais1].index\n",
    "    pais_y_1 = recuperados.loc[pais1].values\n",
    "    pais_x_1 = pais_x_1[0: len(pais_x_1)-1]\n",
    "    pais_y_1 = pais_y_1[0: len(pais_y_1)-1]\n",
    "    pais_x_2 = recuperados.loc[pais2].index\n",
    "    pais_y_2 = recuperados.loc[pais2].values\n",
    "    pais_x_2 = pais_x_2[0: len(pais_x_2)-1]\n",
    "    pais_y_2 = pais_y_2[0: len(pais_y_2)-1]\n",
    "    fig, ax = plt.subplots(figsize=(12, 8))\n",
    "    ax.plot(pais_x_1,pais_y_1,label = pais1);ax.legend()\n",
    "    ax.plot(pais_x_2,pais_y_2,label = pais2);ax.legend()\n",
    "    ax.set(xlabel=\"Fecha\", ylabel=\"Personas\",title=\"Recuperados\")\n",
    "    \n",
    "    plt.show()\n",
    "    \n",
    "def generate_plot_decesos(pais1, pais2):\n",
    "    pais_x_1 = decesos.loc[pais1].index\n",
    "    pais_y_1 = decesos.loc[pais1].values\n",
    "    pais_x_1 = pais_x_1[0: len(pais_x_1)-1]\n",
    "    pais_y_1 = pais_y_1[0: len(pais_y_1)-1]\n",
    "    pais_x_2 = decesos.loc[pais2].index\n",
    "    pais_y_2 = decesos.loc[pais2].values\n",
    "    pais_x_2 = pais_x_2[0: len(pais_x_2)-1]\n",
    "    pais_y_2 = pais_y_2[0: len(pais_y_2)-1]\n",
    "    fig, ax = plt.subplots(figsize=(12, 8))\n",
    "    ax.plot(pais_x_1,pais_y_1,label = pais1);ax.legend()\n",
    "    ax.plot(pais_x_2,pais_y_2,label = pais2);ax.legend()\n",
    "    ax.set(xlabel=\"Fecha\", ylabel=\"Personas\",title=\"Decesos\")\n",
    "    plt.show()\n",
    "\n",
    "\n",
    "def action_1():\n",
    "    widgets.interact(generate_plot_confirmados, pais1=pais1_dropdown, pais2=pais2_dropdown);\n",
    "\n",
    "def action_2():\n",
    "    widgets.interact(generate_plot_recuperados, pais1=pais1_dropdown, pais2=pais2_dropdown);\n",
    "\n",
    "def action_3():\n",
    "    widgets.interact(generate_plot_decesos, pais1=pais1_dropdown, pais2=pais2_dropdown);\n",
    "\n",
    "out1 = widgets.interactive(action_1)\n",
    "out2 = widgets.interactive(action_2)\n",
    "out3 = widgets.interactive(action_3)\n",
    "\n",
    "tab  = widgets.Tab(children = [out1, out2, out3])\n",
    "tab.set_title(0, 'Confirmados')\n",
    "tab.set_title(1, 'Recuperados')\n",
    "tab.set_title(2, 'Decesos')\n",
    "\n",
    "display(tab)"
   ]
  },
  {
   "cell_type": "markdown",
   "metadata": {},
   "source": [
    "### Dashboard interactivo (1.0pt)\n",
    "\n",
    "Implemente un *dashboard web* interactivo a partir de la interfaz desarrollada en el punto anterior utilizando la librería [voila](https://github.com/voila-dashboards/voila). Sirva su interfaz en la nube, para esto puede considerar los servicios gratuitos [binder](https://mybinder.org/) o [heroku](https://www.heroku.com/free). Revise la documentación de voila [con respecto a *deployment* en la nube](https://voila.readthedocs.io/en/stable/deploy.html) y este repositorio con [un ejemplo en base a heroku](https://github.com/voila-dashboards/voila-heroku). Entregue el link de su dashboard web"
   ]
  },
  {
   "cell_type": "code",
   "execution_count": null,
   "metadata": {},
   "outputs": [],
   "source": []
  }
 ],
 "metadata": {
  "kernelspec": {
   "display_name": "Python 3",
   "language": "python",
   "name": "python3"
  },
  "language_info": {
   "codemirror_mode": {
    "name": "ipython",
    "version": 3
   },
   "file_extension": ".py",
   "mimetype": "text/x-python",
   "name": "python",
   "nbconvert_exporter": "python",
   "pygments_lexer": "ipython3",
   "version": "3.7.6"
  },
  "toc": {
   "base_numbering": 1,
   "nav_menu": {},
   "number_sections": true,
   "sideBar": true,
   "skip_h1_title": false,
   "title_cell": "Table of Contents",
   "title_sidebar": "Contents",
   "toc_cell": false,
   "toc_position": {},
   "toc_section_display": true,
   "toc_window_display": false
  }
 },
 "nbformat": 4,
 "nbformat_minor": 2
}
