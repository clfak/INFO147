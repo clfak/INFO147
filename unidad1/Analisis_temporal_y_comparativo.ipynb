{
 "cells": [
  {
   "cell_type": "markdown",
   "metadata": {},
   "source": [
    "# <h1 align=\"center\" id=\"heading\">Explorando datos mundiales de COVID-19 </h1>"
   ]
  },
  {
   "cell_type": "code",
   "execution_count": 1,
   "metadata": {},
   "outputs": [],
   "source": [
    "import matplotlib.pyplot as plt\n",
    "import numpy as np \n",
    "import pandas as pd\n",
    "import ipywidgets as widgets\n",
    "import datetime"
   ]
  },
  {
   "cell_type": "code",
   "execution_count": 2,
   "metadata": {},
   "outputs": [],
   "source": [
    "import warnings\n",
    "warnings.filterwarnings(\"ignore\", category=FutureWarning)"
   ]
  },
  {
   "cell_type": "code",
   "execution_count": 3,
   "metadata": {},
   "outputs": [],
   "source": [
    "def formatData(path):\n",
    "    #A. Utilizamos el nombre de país como índice principal\n",
    "    df = pd.read_csv(path, index_col ='Country/Region')\n",
    "    df.index.name = 'Pais'\n",
    "    #B. Eliminamos las columnas Lat y Long\n",
    "    df.drop(['Lat', 'Long'], axis = 1 ,inplace = True)\n",
    "    #C. Usamos TimeStamps para los \"nombres de columna\" asociados a fechas\n",
    "    lista_col = [df.columns[0]]\n",
    "    #D. Reducimos la columna Province/State\n",
    "    dict_dias_sum = {}                                            \n",
    "    for i in range(1,df.shape[1],1):\n",
    "        lista_col.append(pd.Timestamp(df.columns[i]).date()) #C. \n",
    "        dict_dias_sum[lista_col[i]] = np.sum # D.\n",
    "    df.columns = lista_col #C.\n",
    "    df = df.groupby('Pais').aggregate(dict_dias_sum) #D.\n",
    "    return df"
   ]
  },
  {
   "cell_type": "code",
   "execution_count": 4,
   "metadata": {},
   "outputs": [],
   "source": [
    "confirmados = formatData('data/covid19_confirmados.csv')\n",
    "population = pd.read_csv('data/population_by_country_2020.csv', index_col = 'Country (or dependency)')\n",
    "population.index.name = 'Pais'\n",
    "population.drop(['Yearly Change', 'Net Change','Density (P/Km²)','Land Area (Km²)',\n",
    "                'Migrants (net)', 'Fert. Rate', 'Med. Age','Urban Pop %', 'World Share'], \n",
    "                 axis = 1 ,inplace = True)"
   ]
  },
  {
   "cell_type": "code",
   "execution_count": 5,
   "metadata": {},
   "outputs": [],
   "source": [
    "def mg(df, population):\n",
    "    return pd.merge(df, population, how = 'inner', on= 'Pais')\n",
    "\n",
    "confirmados = mg(confirmados, population)\n",
    "recuperados = mg(formatData('data/covid19_recuperados.csv'),population)\n",
    "decesos = mg(formatData('data/covid19_decesos.csv'),population)"
   ]
  },
  {
   "cell_type": "code",
   "execution_count": 6,
   "metadata": {},
   "outputs": [],
   "source": [
    "#(a)Confirmados\n",
    "confirmados_totales = confirmados.iloc[:, 0:460].sum(axis =1)\n",
    "#(b)Cerrados:recuperados más decesos\n",
    "cerrados = recuperados.iloc[:, 0:460].sum(axis =1)+decesos.iloc[:, 0:460].sum(axis =1)\n",
    "#(c)Activos: confirmados menos cerrados\n",
    "activos_totales = confirmados_totales - cerrados\n",
    "decesos_totales = decesos.iloc[:, 0:460].sum(axis =1)\n",
    "recuperados_totales = recuperados.iloc[:, 0:460].sum(axis =1)\n",
    "poblacion_total = confirmados['Population (2020)'].sum()\n",
    "tasa_incidencia = confirmados_totales*100000/poblacion_total\n",
    "tasa_recuperacion = recuperados_totales*100000/poblacion_total\n",
    "tasa_mortalidad = decesos_totales*100000/poblacion_total\n",
    "\n",
    "OCDE = [\"Austria\", \"Australia\", \"Belgium\", \"Canada\", \"Chile\", \"Colombia\", \"Denmark\", \"Estonia\", \n",
    "        \"Finland\", \"France\", \"Germany\", \"Greece\", \"Hungary\", \"Iceland\", \"Ireland\", \"Israel\", \"Italy\", \n",
    "        \"Japan\", \"Latvia\", \"Lithuania\", \"Luxembourg\", \"Mexico\", \"Netherlands\", \"New Zealand\", \"Norway\", \n",
    "        \"Poland\", \"Portugal\", \"Slovenia\", \"Spain\", \"Sweden\", \n",
    "        \"Switzerland\", \"Turkey\", \"US\",\"United Kingdom\", \"Slovakia\", \"Czechia\"]\n",
    "# Fuente: https://www.oecd.org/newsroom/global-oecd-welcomes-colombia-as-its-37th-member.htm"
   ]
  },
  {
   "cell_type": "markdown",
   "metadata": {},
   "source": [
    "### <h3 align=\"center\" id=\"heading\">Análisis temporal y comparativo  </h3> "
   ]
  },
  {
   "cell_type": "code",
   "execution_count": 7,
   "metadata": {},
   "outputs": [],
   "source": [
    "def acum_pais(data,pais):\n",
    "    pais_fecha = data.loc[pais].index\n",
    "    pais_pers = data.loc[pais].values\n",
    "    return (pais_fecha[0: len(pais_fecha)-1],pais_pers[0: len(pais_pers)-1])\n",
    "def casos_nuevos(data, pais):\n",
    "    casos_nuevos = np.zeros(shape = data.shape[0])\n",
    "    casos = data.drop(['Population (2020)'], axis=1)\n",
    "    casos = (casos.loc[pais]).values\n",
    "    casos_nuevos = np.zeros(shape = casos.shape[0])\n",
    "    ayer,hoy = 0,0\n",
    "    d = 0\n",
    "    tiempo = []\n",
    "    m = 1\n",
    "    for dia in casos:\n",
    "        tiempo.append(dia)\n",
    "        hoy = np.sum(casos[m-1])\n",
    "        casos_nuevos[d] = hoy - ayer\n",
    "        ayer = hoy\n",
    "        d+=1\n",
    "        m+=1\n",
    "    return (tiempo,casos_nuevos)\n",
    "\n",
    "def generate_plot(data,pais1,pais2,caso,titulo):\n",
    "    fig, ax = plt.subplots(figsize=(12, 6), tight_layout=True)\n",
    "    if(caso ==\"Acumulados\"):\n",
    "        (pais1_x, pais1_y) = acum_pais(data,pais1)\n",
    "        (pais2_x, pais2_y) = acum_pais(data,pais2)               \n",
    "    else:\n",
    "        (pais1_x, pais1_y) = casos_nuevos(data,pais1)\n",
    "        (pais2_x, pais2_y) = casos_nuevos(data,pais2)\n",
    "                  \n",
    "    ax.plot(pais1_x,pais1_y, label = pais1);ax.legend()\n",
    "    ax.plot(pais2_x,pais2_y ,label = pais2);ax.legend()\n",
    "    ax.set(xlabel=\"Fecha\", ylabel=\"Personas\")\n",
    "    ax.set_title(titulo,fontsize=18)\n",
    "    plt.show()\n",
    "    \n",
    "def generate_plot_confirmados(pais1,pais2,caso):\n",
    "    generate_plot(confirmados,pais1,pais2,caso, \"Confirmados\")\n",
    "def generate_plot_recuperados(pais1,pais2,caso):\n",
    "    generate_plot(recuperados,pais1,pais2,caso, \"Recuperados\")\n",
    "def generate_plot_decesos(pais1,pais2,caso):\n",
    "    generate_plot(decesos,pais1,pais2,caso, \"Decesos\")\n",
    "\n",
    "\n"
   ]
  },
  {
   "cell_type": "code",
   "execution_count": 8,
   "metadata": {},
   "outputs": [
    {
     "data": {
      "application/vnd.jupyter.widget-view+json": {
       "model_id": "b240e141cbe14e9aa978e099071a8dfe",
       "version_major": 2,
       "version_minor": 0
      },
      "text/plain": [
       "Tab(children=(interactive(children=(Output(),), _dom_classes=('widget-interact',)), interactive(children=(Outp…"
      ]
     },
     "metadata": {},
     "output_type": "display_data"
    }
   ],
   "source": [
    "pais1_dropdown = widgets.Dropdown(options=list(OCDE),\n",
    "                                description='País:',\n",
    "                                disabled=False)\n",
    "\n",
    "pais2_dropdown = widgets.Dropdown(options=list(OCDE),\n",
    "                                description='País:',\n",
    "                                disabled=False)\n",
    "\n",
    "casos_slider = widgets.Dropdown(description=\"Casos:\", \n",
    "                              options=[\"Nuevos\", \"Acumulados\"])\n",
    "def action_1():\n",
    "    widgets.interact(generate_plot_confirmados, pais1=pais1_dropdown, pais2=pais2_dropdown, caso=casos_slider);\n",
    "\n",
    "def action_2():\n",
    "    widgets.interact(generate_plot_recuperados, pais1=pais1_dropdown, pais2=pais2_dropdown,caso =casos_slider);\n",
    "\n",
    "def action_3():\n",
    "    widgets.interact(generate_plot_decesos, pais1=pais1_dropdown, pais2=pais2_dropdown,caso =casos_slider);\n",
    "\n",
    "out1 = widgets.interactive(action_1)\n",
    "out2 = widgets.interactive(action_2)\n",
    "out3 = widgets.interactive(action_3)\n",
    "\n",
    "tab  = widgets.Tab(children = [out1, out2, out3])\n",
    "tab.set_title(0, 'Confirmados')\n",
    "tab.set_title(1, 'Recuperados')\n",
    "tab.set_title(2, 'Decesos')\n",
    "\n",
    "display(tab)"
   ]
  },
  {
   "cell_type": "code",
   "execution_count": null,
   "metadata": {},
   "outputs": [],
   "source": []
  }
 ],
 "metadata": {
  "kernelspec": {
   "display_name": "Python 3",
   "language": "python",
   "name": "python3"
  },
  "language_info": {
   "codemirror_mode": {
    "name": "ipython",
    "version": 3
   },
   "file_extension": ".py",
   "mimetype": "text/x-python",
   "name": "python",
   "nbconvert_exporter": "python",
   "pygments_lexer": "ipython3",
   "version": "3.7.6"
  },
  "toc": {
   "base_numbering": 1,
   "nav_menu": {},
   "number_sections": true,
   "sideBar": true,
   "skip_h1_title": false,
   "title_cell": "Table of Contents",
   "title_sidebar": "Contents",
   "toc_cell": false,
   "toc_position": {},
   "toc_section_display": true,
   "toc_window_display": false
  }
 },
 "nbformat": 4,
 "nbformat_minor": 2
}
