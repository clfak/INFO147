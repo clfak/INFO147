{
 "cells": [
  {
   "cell_type": "markdown",
   "metadata": {},
   "source": [
    "# <h1 align=\"center\" id=\"heading\">Explorando datos mundiales de COVID-19 </h1>"
   ]
  },
  {
   "cell_type": "code",
   "execution_count": 4,
   "metadata": {},
   "outputs": [],
   "source": [
    "import matplotlib.pyplot as plt\n",
    "import numpy as np \n",
    "import pandas as pd\n",
    "import ipywidgets as widgets\n",
    "import datetime"
   ]
  },
  {
   "cell_type": "code",
   "execution_count": 5,
   "metadata": {},
   "outputs": [],
   "source": [
    "import warnings\n",
    "warnings.filterwarnings(\"ignore\", category=FutureWarning)"
   ]
  },
  {
   "cell_type": "code",
   "execution_count": 6,
   "metadata": {},
   "outputs": [],
   "source": [
    "def formatData(path):\n",
    "    #A. Utilizamos el nombre de país como índice principal\n",
    "    df = pd.read_csv(path, index_col ='Country/Region')\n",
    "    df.index.name = 'Pais'\n",
    "    #B. Eliminamos las columnas Lat y Long\n",
    "    df.drop(['Lat', 'Long'], axis = 1 ,inplace = True)\n",
    "    #C. Usamos TimeStamps para los \"nombres de columna\" asociados a fechas\n",
    "    lista_col = [df.columns[0]]\n",
    "    #D. Reducimos la columna Province/State\n",
    "    dict_dias_sum = {}                                            \n",
    "    for i in range(1,df.shape[1],1):\n",
    "        lista_col.append(pd.Timestamp(df.columns[i]).date()) #C. \n",
    "        dict_dias_sum[lista_col[i]] = np.sum # D.\n",
    "    df.columns = lista_col #C.\n",
    "    df = df.groupby('Pais').aggregate(dict_dias_sum) #D.\n",
    "    return df"
   ]
  },
  {
   "cell_type": "code",
   "execution_count": 3,
   "metadata": {},
   "outputs": [],
   "source": [
    "confirmados = formatData('data/covid19_confirmados.csv')"
   ]
  },
  {
   "cell_type": "code",
   "execution_count": 4,
   "metadata": {},
   "outputs": [],
   "source": [
    "population = pd.read_csv('data/population_by_country_2020.csv', index_col = 'Country (or dependency)')\n",
    "population.index.name = 'Pais'\n",
    "population.drop(['Yearly Change', 'Net Change','Density (P/Km²)','Land Area (Km²)',\n",
    "                'Migrants (net)', 'Fert. Rate', 'Med. Age','Urban Pop %', 'World Share'], \n",
    "                 axis = 1 ,inplace = True)"
   ]
  },
  {
   "cell_type": "code",
   "execution_count": 5,
   "metadata": {},
   "outputs": [],
   "source": [
    "def mg(df, population):\n",
    "    return pd.merge(df, population, how = 'inner', on= 'Pais')"
   ]
  },
  {
   "cell_type": "code",
   "execution_count": 6,
   "metadata": {},
   "outputs": [],
   "source": [
    "confirmados = mg(confirmados, population)\n",
    "recuperados = mg(formatData('data/covid19_recuperados.csv'),population)\n",
    "decesos = mg(formatData('data/covid19_decesos.csv'),population)"
   ]
  },
  {
   "cell_type": "code",
   "execution_count": 9,
   "metadata": {},
   "outputs": [],
   "source": [
    "#(a)Confirmados\n",
    "confirmados_totales = confirmados.iloc[:, 0:460].sum(axis =1)\n",
    "#(b)Cerrados:recuperados más decesos\n",
    "cerrados = recuperados.iloc[:, 0:460].sum(axis =1)+decesos.iloc[:, 0:460].sum(axis =1)\n",
    "#(c)Activos: confirmados menos cerrados\n",
    "activos_totales = confirmados_totales - cerrados\n",
    "decesos_totales = decesos.iloc[:, 0:460].sum(axis =1)\n",
    "recuperados_totales = recuperados.iloc[:, 0:460].sum(axis =1)\n",
    "poblacion_total = confirmados['Population (2020)'].sum()\n",
    "tasa_incidencia = confirmados_totales*100000/poblacion_total\n",
    "tasa_recuperacion = recuperados_totales*100000/poblacion_total\n",
    "tasa_mortalidad = decesos_totales*100000/poblacion_total\n",
    "\n",
    "OCDE = [\"Austria\", \"Australia\", \"Belgium\", \"Canada\", \"Chile\", \"Colombia\", \"Denmark\", \"Estonia\", \n",
    "        \"Finland\", \"France\", \"Germany\", \"Greece\", \"Hungary\", \"Iceland\", \"Ireland\", \"Israel\", \"Italy\", \n",
    "        \"Japan\", \"Latvia\", \"Lithuania\", \"Luxembourg\", \"Mexico\", \"Netherlands\", \"New Zealand\", \"Norway\", \n",
    "        \"Poland\", \"Portugal\", \"Slovenia\", \"Spain\", \"Sweden\", \n",
    "        \"Switzerland\", \"Turkey\", \"US\",\"United Kingdom\", \"Slovakia\", \"Czechia\"]\n",
    "# Fuente: https://www.oecd.org/newsroom/global-oecd-welcomes-colombia-as-its-37th-member.htm"
   ]
  },
  {
   "cell_type": "markdown",
   "metadata": {},
   "source": [
    "### <h3 align=\"center\" id=\"heading\">Análisis temporal y comparativo  </h3> "
   ]
  },
  {
   "cell_type": "code",
   "execution_count": 10,
   "metadata": {},
   "outputs": [
    {
     "data": {
      "application/vnd.jupyter.widget-view+json": {
       "model_id": "0a3da0071cbd476883327f5282d672d5",
       "version_major": 2,
       "version_minor": 0
      },
      "text/plain": [
       "Tab(children=(interactive(children=(Output(),), _dom_classes=('widget-interact',)), interactive(children=(Outp…"
      ]
     },
     "metadata": {},
     "output_type": "display_data"
    }
   ],
   "source": [
    "pais1_dropdown = widgets.Dropdown(options=list(OCDE),\n",
    "                                description='País:',\n",
    "                                disabled=False)\n",
    "\n",
    "pais2_dropdown = widgets.Dropdown(options=list(OCDE),\n",
    "                                description='País:',\n",
    "                                disabled=False)\n",
    "\n",
    "def generate_plot_confirmados(pais1, pais2):\n",
    "    pais_x_1 = confirmados.loc[pais1].index\n",
    "    pais_y_1 = confirmados.loc[pais1].values\n",
    "    pais_x_1 = pais_x_1[0: len(pais_x_1)-1]\n",
    "    pais_y_1 = pais_y_1[0: len(pais_y_1)-1]\n",
    "    pais_x_2 = confirmados.loc[pais2].index\n",
    "    pais_y_2 = confirmados.loc[pais2].values\n",
    "    pais_x_2 = pais_x_2[0: len(pais_x_2)-1]\n",
    "    pais_y_2 = pais_y_2[0: len(pais_y_2)-1]\n",
    "    fig, ax = plt.subplots(figsize=(12, 8))\n",
    "    ax.plot(pais_x_1,pais_y_1 ,label = pais1);ax.legend()\n",
    "    ax.plot(pais_x_2,pais_y_2, label = pais2);ax.legend()\n",
    "    ax.set(xlabel=\"Fecha\", ylabel=\"Personas\",title=\"Confirmados\")\n",
    "    \n",
    "    plt.show()\n",
    "\n",
    "    \n",
    "def generate_plot_recuperados(pais1, pais2):\n",
    "    pais_x_1 = recuperados.loc[pais1].index\n",
    "    pais_y_1 = recuperados.loc[pais1].values\n",
    "    pais_x_1 = pais_x_1[0: len(pais_x_1)-1]\n",
    "    pais_y_1 = pais_y_1[0: len(pais_y_1)-1]\n",
    "    pais_x_2 = recuperados.loc[pais2].index\n",
    "    pais_y_2 = recuperados.loc[pais2].values\n",
    "    pais_x_2 = pais_x_2[0: len(pais_x_2)-1]\n",
    "    pais_y_2 = pais_y_2[0: len(pais_y_2)-1]\n",
    "    fig, ax = plt.subplots(figsize=(12, 8))\n",
    "    ax.plot(pais_x_1,pais_y_1,label = pais1);ax.legend()\n",
    "    ax.plot(pais_x_2,pais_y_2,label = pais2);ax.legend()\n",
    "    ax.set(xlabel=\"Fecha\", ylabel=\"Personas\",title=\"Recuperados\")\n",
    "    \n",
    "    plt.show()\n",
    "    \n",
    "def generate_plot_decesos(pais1, pais2):\n",
    "    pais_x_1 = decesos.loc[pais1].index\n",
    "    pais_y_1 = decesos.loc[pais1].values\n",
    "    pais_x_1 = pais_x_1[0: len(pais_x_1)-1]\n",
    "    pais_y_1 = pais_y_1[0: len(pais_y_1)-1]\n",
    "    pais_x_2 = decesos.loc[pais2].index\n",
    "    pais_y_2 = decesos.loc[pais2].values\n",
    "    pais_x_2 = pais_x_2[0: len(pais_x_2)-1]\n",
    "    pais_y_2 = pais_y_2[0: len(pais_y_2)-1]\n",
    "    fig, ax = plt.subplots(figsize=(12, 8))\n",
    "    ax.plot(pais_x_1,pais_y_1,label = pais1);ax.legend()\n",
    "    ax.plot(pais_x_2,pais_y_2,label = pais2);ax.legend()\n",
    "    ax.set(xlabel=\"Fecha\", ylabel=\"Personas\",title=\"Decesos\")\n",
    "    plt.show()\n",
    "\n",
    "\n",
    "def action_1():\n",
    "    widgets.interact(generate_plot_confirmados, pais1=pais1_dropdown, pais2=pais2_dropdown);\n",
    "\n",
    "def action_2():\n",
    "    widgets.interact(generate_plot_recuperados, pais1=pais1_dropdown, pais2=pais2_dropdown);\n",
    "\n",
    "def action_3():\n",
    "    widgets.interact(generate_plot_decesos, pais1=pais1_dropdown, pais2=pais2_dropdown);\n",
    "\n",
    "out1 = widgets.interactive(action_1)\n",
    "out2 = widgets.interactive(action_2)\n",
    "out3 = widgets.interactive(action_3)\n",
    "\n",
    "tab  = widgets.Tab(children = [out1, out2, out3])\n",
    "tab.set_title(0, 'Confirmados')\n",
    "tab.set_title(1, 'Recuperados')\n",
    "tab.set_title(2, 'Decesos')\n",
    "\n",
    "display(tab)"
   ]
  }
 ],
 "metadata": {
  "kernelspec": {
   "display_name": "Python 3",
   "language": "python",
   "name": "python3"
  },
  "language_info": {
   "codemirror_mode": {
    "name": "ipython",
    "version": 3
   },
   "file_extension": ".py",
   "mimetype": "text/x-python",
   "name": "python",
   "nbconvert_exporter": "python",
   "pygments_lexer": "ipython3",
   "version": "3.7.10"
  },
  "toc": {
   "base_numbering": 1,
   "nav_menu": {},
   "number_sections": true,
   "sideBar": true,
   "skip_h1_title": false,
   "title_cell": "Table of Contents",
   "title_sidebar": "Contents",
   "toc_cell": false,
   "toc_position": {},
   "toc_section_display": true,
   "toc_window_display": false
  }
 },
 "nbformat": 4,
 "nbformat_minor": 2
}
